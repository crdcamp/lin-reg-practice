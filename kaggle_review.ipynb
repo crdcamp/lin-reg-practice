{
 "cells": [
  {
   "cell_type": "markdown",
   "id": "0cf00424",
   "metadata": {},
   "source": [
    "# Kaggle Review\n",
    "\n",
    "Despite the context of this project not being focused on strong results, the horrendous MSE and R^2 values I ended with are incredibly bothersome to me. I'm currently under the assumption that the data has an extreme price difference between the luxury and more affordable vehicles. Whether this is something that could be addressed through some sort of classification is currently beyond me. Moreover, I need to work on more ways to interpret and graph the data.\n",
    "\n",
    "That being said, I think this is a perfect opportunity to compare the top submissions for this data and expand my ML toolkit. They seem to expand upon the data a bit, so my takeaways will be largely conceptual. Let's see if I can translate some of these submissions to my own use case."
   ]
  },
  {
   "cell_type": "markdown",
   "id": "c7784322",
   "metadata": {
    "vscode": {
     "languageId": "plaintext"
    }
   },
   "source": [
    "# First Example\n",
    "\n",
    "The first comparison example can be found [here](https://www.kaggle.com/code/satyaprakashshukl/used-car-price-prediction). Let's take a look at what they did.\n",
    "\n",
    "Interestingly, they have `lightgbm` in their imports. While I attempted to use this library for missing value imputation, I also considered learning how to use it for the price predictions as well. Given that it was an entire learning rabbit hole to go down, I decided to abandon it. Nice to see I had the right idea though.\n",
    "\n",
    "Here's all the imports this guy used:"
   ]
  },
  {
   "cell_type": "code",
   "execution_count": 104,
   "id": "5614ae39",
   "metadata": {},
   "outputs": [],
   "source": [
    "import numpy as np\n",
    "import pandas as pd\n",
    "import matplotlib.pyplot as plt\n",
    "from sklearn.model_selection import train_test_split\n",
    "from sklearn.metrics import mean_squared_error\n",
    "import seaborn as sns\n",
    "from xgboost import XGBRegressor\n",
    "from lightgbm import LGBMRegressor\n",
    "from sklearn.metrics import mean_squared_error\n",
    "from sklearn.model_selection import KFold\n",
    "import gc"
   ]
  },
  {
   "cell_type": "markdown",
   "id": "b3da67f9",
   "metadata": {},
   "source": [
    "Moreover, while I was using MSE for simplicity (and just to get things done), this gentleman uses **Root Mean Squared Error (RMSE)**.\n",
    "\n",
    "According to [Reddit](https://www.reddit.com/r/learnmachinelearning/comments/s98fsr/whats_the_difference_between_mse_and_rmse_and_why/) (I'll use better resources when I actually apply this metric to my own use cases), \"the MSE gives us the average squared error, but it's not in the same units as the value we are trying to predict. The RMSE is the square root of the MSE, so now we have the prediction error in the same units of the predicted value.\"\n",
    "\n",
    "\"In short, RMSE is more intuitive to 'see' whereas MSE is more useful mathematically. Same for variance vs. STD.\"\n",
    "\n",
    "Let's get the data ready to loosely follow along."
   ]
  },
  {
   "cell_type": "code",
   "execution_count": 105,
   "id": "4981f032",
   "metadata": {},
   "outputs": [
    {
     "data": {
      "application/vnd.microsoft.datawrangler.viewer.v0+json": {
       "columns": [
        {
         "name": "index",
         "rawType": "int64",
         "type": "integer"
        },
        {
         "name": "brand",
         "rawType": "object",
         "type": "string"
        },
        {
         "name": "model",
         "rawType": "object",
         "type": "string"
        },
        {
         "name": "model_year",
         "rawType": "int64",
         "type": "integer"
        },
        {
         "name": "milage",
         "rawType": "object",
         "type": "string"
        },
        {
         "name": "fuel_type",
         "rawType": "object",
         "type": "unknown"
        },
        {
         "name": "engine",
         "rawType": "object",
         "type": "string"
        },
        {
         "name": "transmission",
         "rawType": "object",
         "type": "string"
        },
        {
         "name": "ext_col",
         "rawType": "object",
         "type": "string"
        },
        {
         "name": "int_col",
         "rawType": "object",
         "type": "string"
        },
        {
         "name": "accident",
         "rawType": "object",
         "type": "string"
        },
        {
         "name": "clean_title",
         "rawType": "object",
         "type": "unknown"
        },
        {
         "name": "price",
         "rawType": "object",
         "type": "string"
        }
       ],
       "ref": "9333eb0d-b654-42c9-824e-6bde73772cd5",
       "rows": [
        [
         "0",
         "Ford",
         "Utility Police Interceptor Base",
         "2013",
         "51,000 mi.",
         "E85 Flex Fuel",
         "300.0HP 3.7L V6 Cylinder Engine Flex Fuel Capability",
         "6-Speed A/T",
         "Black",
         "Black",
         "At least 1 accident or damage reported",
         "Yes",
         "$10,300"
        ],
        [
         "1",
         "Hyundai",
         "Palisade SEL",
         "2021",
         "34,742 mi.",
         "Gasoline",
         "3.8L V6 24V GDI DOHC",
         "8-Speed Automatic",
         "Moonlight Cloud",
         "Gray",
         "At least 1 accident or damage reported",
         "Yes",
         "$38,005"
        ],
        [
         "2",
         "Lexus",
         "RX 350 RX 350",
         "2022",
         "22,372 mi.",
         "Gasoline",
         "3.5 Liter DOHC",
         "Automatic",
         "Blue",
         "Black",
         "None reported",
         null,
         "$54,598"
        ],
        [
         "3",
         "INFINITI",
         "Q50 Hybrid Sport",
         "2015",
         "88,900 mi.",
         "Hybrid",
         "354.0HP 3.5L V6 Cylinder Engine Gas/Electric Hybrid",
         "7-Speed A/T",
         "Black",
         "Black",
         "None reported",
         "Yes",
         "$15,500"
        ],
        [
         "4",
         "Audi",
         "Q3 45 S line Premium Plus",
         "2021",
         "9,835 mi.",
         "Gasoline",
         "2.0L I4 16V GDI DOHC Turbo",
         "8-Speed Automatic",
         "Glacier White Metallic",
         "Black",
         "None reported",
         null,
         "$34,999"
        ],
        [
         "5",
         "Acura",
         "ILX 2.4L",
         "2016",
         "136,397 mi.",
         "Gasoline",
         "2.4 Liter",
         "F",
         "Silver",
         "Ebony.",
         "None reported",
         null,
         "$14,798"
        ],
        [
         "6",
         "Audi",
         "S3 2.0T Premium Plus",
         "2017",
         "84,000 mi.",
         "Gasoline",
         "292.0HP 2.0L 4 Cylinder Engine Gasoline Fuel",
         "6-Speed A/T",
         "Blue",
         "Black",
         "None reported",
         "Yes",
         "$31,000"
        ],
        [
         "7",
         "BMW",
         "740 iL",
         "2001",
         "242,000 mi.",
         "Gasoline",
         "282.0HP 4.4L 8 Cylinder Engine Gasoline Fuel",
         "A/T",
         "Green",
         "Green",
         "None reported",
         "Yes",
         "$7,300"
        ],
        [
         "8",
         "Lexus",
         "RC 350 F Sport",
         "2021",
         "23,436 mi.",
         "Gasoline",
         "311.0HP 3.5L V6 Cylinder Engine Gasoline Fuel",
         "6-Speed A/T",
         "Black",
         "Black",
         "None reported",
         "Yes",
         "$41,927"
        ],
        [
         "9",
         "Tesla",
         "Model X Long Range Plus",
         "2020",
         "34,000 mi.",
         null,
         "534.0HP Electric Motor Electric Fuel System",
         "A/T",
         "Black",
         "Black",
         "None reported",
         "Yes",
         "$69,950"
        ]
       ],
       "shape": {
        "columns": 12,
        "rows": 10
       }
      },
      "text/html": [
       "<div>\n",
       "<style scoped>\n",
       "    .dataframe tbody tr th:only-of-type {\n",
       "        vertical-align: middle;\n",
       "    }\n",
       "\n",
       "    .dataframe tbody tr th {\n",
       "        vertical-align: top;\n",
       "    }\n",
       "\n",
       "    .dataframe thead th {\n",
       "        text-align: right;\n",
       "    }\n",
       "</style>\n",
       "<table border=\"1\" class=\"dataframe\">\n",
       "  <thead>\n",
       "    <tr style=\"text-align: right;\">\n",
       "      <th></th>\n",
       "      <th>brand</th>\n",
       "      <th>model</th>\n",
       "      <th>model_year</th>\n",
       "      <th>milage</th>\n",
       "      <th>fuel_type</th>\n",
       "      <th>engine</th>\n",
       "      <th>transmission</th>\n",
       "      <th>ext_col</th>\n",
       "      <th>int_col</th>\n",
       "      <th>accident</th>\n",
       "      <th>clean_title</th>\n",
       "      <th>price</th>\n",
       "    </tr>\n",
       "  </thead>\n",
       "  <tbody>\n",
       "    <tr>\n",
       "      <th>0</th>\n",
       "      <td>Ford</td>\n",
       "      <td>Utility Police Interceptor Base</td>\n",
       "      <td>2013</td>\n",
       "      <td>51,000 mi.</td>\n",
       "      <td>E85 Flex Fuel</td>\n",
       "      <td>300.0HP 3.7L V6 Cylinder Engine Flex Fuel Capa...</td>\n",
       "      <td>6-Speed A/T</td>\n",
       "      <td>Black</td>\n",
       "      <td>Black</td>\n",
       "      <td>At least 1 accident or damage reported</td>\n",
       "      <td>Yes</td>\n",
       "      <td>$10,300</td>\n",
       "    </tr>\n",
       "    <tr>\n",
       "      <th>1</th>\n",
       "      <td>Hyundai</td>\n",
       "      <td>Palisade SEL</td>\n",
       "      <td>2021</td>\n",
       "      <td>34,742 mi.</td>\n",
       "      <td>Gasoline</td>\n",
       "      <td>3.8L V6 24V GDI DOHC</td>\n",
       "      <td>8-Speed Automatic</td>\n",
       "      <td>Moonlight Cloud</td>\n",
       "      <td>Gray</td>\n",
       "      <td>At least 1 accident or damage reported</td>\n",
       "      <td>Yes</td>\n",
       "      <td>$38,005</td>\n",
       "    </tr>\n",
       "    <tr>\n",
       "      <th>2</th>\n",
       "      <td>Lexus</td>\n",
       "      <td>RX 350 RX 350</td>\n",
       "      <td>2022</td>\n",
       "      <td>22,372 mi.</td>\n",
       "      <td>Gasoline</td>\n",
       "      <td>3.5 Liter DOHC</td>\n",
       "      <td>Automatic</td>\n",
       "      <td>Blue</td>\n",
       "      <td>Black</td>\n",
       "      <td>None reported</td>\n",
       "      <td>NaN</td>\n",
       "      <td>$54,598</td>\n",
       "    </tr>\n",
       "    <tr>\n",
       "      <th>3</th>\n",
       "      <td>INFINITI</td>\n",
       "      <td>Q50 Hybrid Sport</td>\n",
       "      <td>2015</td>\n",
       "      <td>88,900 mi.</td>\n",
       "      <td>Hybrid</td>\n",
       "      <td>354.0HP 3.5L V6 Cylinder Engine Gas/Electric H...</td>\n",
       "      <td>7-Speed A/T</td>\n",
       "      <td>Black</td>\n",
       "      <td>Black</td>\n",
       "      <td>None reported</td>\n",
       "      <td>Yes</td>\n",
       "      <td>$15,500</td>\n",
       "    </tr>\n",
       "    <tr>\n",
       "      <th>4</th>\n",
       "      <td>Audi</td>\n",
       "      <td>Q3 45 S line Premium Plus</td>\n",
       "      <td>2021</td>\n",
       "      <td>9,835 mi.</td>\n",
       "      <td>Gasoline</td>\n",
       "      <td>2.0L I4 16V GDI DOHC Turbo</td>\n",
       "      <td>8-Speed Automatic</td>\n",
       "      <td>Glacier White Metallic</td>\n",
       "      <td>Black</td>\n",
       "      <td>None reported</td>\n",
       "      <td>NaN</td>\n",
       "      <td>$34,999</td>\n",
       "    </tr>\n",
       "    <tr>\n",
       "      <th>5</th>\n",
       "      <td>Acura</td>\n",
       "      <td>ILX 2.4L</td>\n",
       "      <td>2016</td>\n",
       "      <td>136,397 mi.</td>\n",
       "      <td>Gasoline</td>\n",
       "      <td>2.4 Liter</td>\n",
       "      <td>F</td>\n",
       "      <td>Silver</td>\n",
       "      <td>Ebony.</td>\n",
       "      <td>None reported</td>\n",
       "      <td>NaN</td>\n",
       "      <td>$14,798</td>\n",
       "    </tr>\n",
       "    <tr>\n",
       "      <th>6</th>\n",
       "      <td>Audi</td>\n",
       "      <td>S3 2.0T Premium Plus</td>\n",
       "      <td>2017</td>\n",
       "      <td>84,000 mi.</td>\n",
       "      <td>Gasoline</td>\n",
       "      <td>292.0HP 2.0L 4 Cylinder Engine Gasoline Fuel</td>\n",
       "      <td>6-Speed A/T</td>\n",
       "      <td>Blue</td>\n",
       "      <td>Black</td>\n",
       "      <td>None reported</td>\n",
       "      <td>Yes</td>\n",
       "      <td>$31,000</td>\n",
       "    </tr>\n",
       "    <tr>\n",
       "      <th>7</th>\n",
       "      <td>BMW</td>\n",
       "      <td>740 iL</td>\n",
       "      <td>2001</td>\n",
       "      <td>242,000 mi.</td>\n",
       "      <td>Gasoline</td>\n",
       "      <td>282.0HP 4.4L 8 Cylinder Engine Gasoline Fuel</td>\n",
       "      <td>A/T</td>\n",
       "      <td>Green</td>\n",
       "      <td>Green</td>\n",
       "      <td>None reported</td>\n",
       "      <td>Yes</td>\n",
       "      <td>$7,300</td>\n",
       "    </tr>\n",
       "    <tr>\n",
       "      <th>8</th>\n",
       "      <td>Lexus</td>\n",
       "      <td>RC 350 F Sport</td>\n",
       "      <td>2021</td>\n",
       "      <td>23,436 mi.</td>\n",
       "      <td>Gasoline</td>\n",
       "      <td>311.0HP 3.5L V6 Cylinder Engine Gasoline Fuel</td>\n",
       "      <td>6-Speed A/T</td>\n",
       "      <td>Black</td>\n",
       "      <td>Black</td>\n",
       "      <td>None reported</td>\n",
       "      <td>Yes</td>\n",
       "      <td>$41,927</td>\n",
       "    </tr>\n",
       "    <tr>\n",
       "      <th>9</th>\n",
       "      <td>Tesla</td>\n",
       "      <td>Model X Long Range Plus</td>\n",
       "      <td>2020</td>\n",
       "      <td>34,000 mi.</td>\n",
       "      <td>NaN</td>\n",
       "      <td>534.0HP Electric Motor Electric Fuel System</td>\n",
       "      <td>A/T</td>\n",
       "      <td>Black</td>\n",
       "      <td>Black</td>\n",
       "      <td>None reported</td>\n",
       "      <td>Yes</td>\n",
       "      <td>$69,950</td>\n",
       "    </tr>\n",
       "  </tbody>\n",
       "</table>\n",
       "</div>"
      ],
      "text/plain": [
       "      brand                            model  model_year       milage  \\\n",
       "0      Ford  Utility Police Interceptor Base        2013   51,000 mi.   \n",
       "1   Hyundai                     Palisade SEL        2021   34,742 mi.   \n",
       "2     Lexus                    RX 350 RX 350        2022   22,372 mi.   \n",
       "3  INFINITI                 Q50 Hybrid Sport        2015   88,900 mi.   \n",
       "4      Audi        Q3 45 S line Premium Plus        2021    9,835 mi.   \n",
       "5     Acura                         ILX 2.4L        2016  136,397 mi.   \n",
       "6      Audi             S3 2.0T Premium Plus        2017   84,000 mi.   \n",
       "7       BMW                           740 iL        2001  242,000 mi.   \n",
       "8     Lexus                   RC 350 F Sport        2021   23,436 mi.   \n",
       "9     Tesla          Model X Long Range Plus        2020   34,000 mi.   \n",
       "\n",
       "       fuel_type                                             engine  \\\n",
       "0  E85 Flex Fuel  300.0HP 3.7L V6 Cylinder Engine Flex Fuel Capa...   \n",
       "1       Gasoline                               3.8L V6 24V GDI DOHC   \n",
       "2       Gasoline                                     3.5 Liter DOHC   \n",
       "3         Hybrid  354.0HP 3.5L V6 Cylinder Engine Gas/Electric H...   \n",
       "4       Gasoline                         2.0L I4 16V GDI DOHC Turbo   \n",
       "5       Gasoline                                          2.4 Liter   \n",
       "6       Gasoline       292.0HP 2.0L 4 Cylinder Engine Gasoline Fuel   \n",
       "7       Gasoline       282.0HP 4.4L 8 Cylinder Engine Gasoline Fuel   \n",
       "8       Gasoline      311.0HP 3.5L V6 Cylinder Engine Gasoline Fuel   \n",
       "9            NaN        534.0HP Electric Motor Electric Fuel System   \n",
       "\n",
       "        transmission                 ext_col int_col  \\\n",
       "0        6-Speed A/T                   Black   Black   \n",
       "1  8-Speed Automatic         Moonlight Cloud    Gray   \n",
       "2          Automatic                    Blue   Black   \n",
       "3        7-Speed A/T                   Black   Black   \n",
       "4  8-Speed Automatic  Glacier White Metallic   Black   \n",
       "5                  F                  Silver  Ebony.   \n",
       "6        6-Speed A/T                    Blue   Black   \n",
       "7                A/T                   Green   Green   \n",
       "8        6-Speed A/T                   Black   Black   \n",
       "9                A/T                   Black   Black   \n",
       "\n",
       "                                 accident clean_title    price  \n",
       "0  At least 1 accident or damage reported         Yes  $10,300  \n",
       "1  At least 1 accident or damage reported         Yes  $38,005  \n",
       "2                           None reported         NaN  $54,598  \n",
       "3                           None reported         Yes  $15,500  \n",
       "4                           None reported         NaN  $34,999  \n",
       "5                           None reported         NaN  $14,798  \n",
       "6                           None reported         Yes  $31,000  \n",
       "7                           None reported         Yes   $7,300  \n",
       "8                           None reported         Yes  $41,927  \n",
       "9                           None reported         Yes  $69,950  "
      ]
     },
     "execution_count": 105,
     "metadata": {},
     "output_type": "execute_result"
    }
   ],
   "source": [
    "df = pd.read_csv(\"data/used_cars.csv\")\n",
    "df.head(10)"
   ]
  },
  {
   "cell_type": "markdown",
   "id": "19d2df0d",
   "metadata": {},
   "source": [
    "I'm also noticing that he split the data before doing anything else, while I split the data pretty late into my code. I have a feeling it's best practice to split the data right off the bat.\n",
    "\n",
    "They also split the data into `df_train` and `df_test` before splitting into the feature and target variables. Likely for the purpose of inspecting the data before doing the actual split."
   ]
  },
  {
   "cell_type": "code",
   "execution_count": 106,
   "id": "b6064e3e",
   "metadata": {},
   "outputs": [],
   "source": [
    "df_train, df_test = train_test_split(\n",
    "    df, test_size=0.2, random_state=42)"
   ]
  },
  {
   "cell_type": "code",
   "execution_count": 107,
   "id": "add7a452",
   "metadata": {},
   "outputs": [
    {
     "data": {
      "text/plain": [
       "((3207, 12), (802, 12))"
      ]
     },
     "execution_count": 107,
     "metadata": {},
     "output_type": "execute_result"
    }
   ],
   "source": [
    "df_train.shape, df_test.shape"
   ]
  },
  {
   "cell_type": "code",
   "execution_count": 108,
   "id": "d74ba708",
   "metadata": {},
   "outputs": [
    {
     "data": {
      "text/plain": [
       "Index(['brand', 'model', 'model_year', 'milage', 'fuel_type', 'engine',\n",
       "       'transmission', 'ext_col', 'int_col', 'accident', 'clean_title',\n",
       "       'price'],\n",
       "      dtype='object')"
      ]
     },
     "execution_count": 108,
     "metadata": {},
     "output_type": "execute_result"
    }
   ],
   "source": [
    "df_train.columns"
   ]
  },
  {
   "cell_type": "code",
   "execution_count": 109,
   "id": "13fd1a06",
   "metadata": {},
   "outputs": [
    {
     "name": "stdout",
     "output_type": "stream",
     "text": [
      "<class 'pandas.core.frame.DataFrame'>\n",
      "Index: 3207 entries, 2473 to 3174\n",
      "Data columns (total 12 columns):\n",
      " #   Column        Non-Null Count  Dtype \n",
      "---  ------        --------------  ----- \n",
      " 0   brand         3207 non-null   object\n",
      " 1   model         3207 non-null   object\n",
      " 2   model_year    3207 non-null   int64 \n",
      " 3   milage        3207 non-null   object\n",
      " 4   fuel_type     3080 non-null   object\n",
      " 5   engine        3207 non-null   object\n",
      " 6   transmission  3207 non-null   object\n",
      " 7   ext_col       3207 non-null   object\n",
      " 8   int_col       3207 non-null   object\n",
      " 9   accident      3116 non-null   object\n",
      " 10  clean_title   2737 non-null   object\n",
      " 11  price         3207 non-null   object\n",
      "dtypes: int64(1), object(11)\n",
      "memory usage: 325.7+ KB\n"
     ]
    }
   ],
   "source": [
    "df_train.info()"
   ]
  },
  {
   "cell_type": "code",
   "execution_count": 110,
   "id": "d15f1f5b",
   "metadata": {},
   "outputs": [
    {
     "name": "stdout",
     "output_type": "stream",
     "text": [
      "<class 'pandas.core.frame.DataFrame'>\n",
      "Index: 802 entries, 2580 to 621\n",
      "Data columns (total 12 columns):\n",
      " #   Column        Non-Null Count  Dtype \n",
      "---  ------        --------------  ----- \n",
      " 0   brand         802 non-null    object\n",
      " 1   model         802 non-null    object\n",
      " 2   model_year    802 non-null    int64 \n",
      " 3   milage        802 non-null    object\n",
      " 4   fuel_type     759 non-null    object\n",
      " 5   engine        802 non-null    object\n",
      " 6   transmission  802 non-null    object\n",
      " 7   ext_col       802 non-null    object\n",
      " 8   int_col       802 non-null    object\n",
      " 9   accident      780 non-null    object\n",
      " 10  clean_title   676 non-null    object\n",
      " 11  price         802 non-null    object\n",
      "dtypes: int64(1), object(11)\n",
      "memory usage: 81.5+ KB\n"
     ]
    }
   ],
   "source": [
    "df_test.info()"
   ]
  },
  {
   "cell_type": "code",
   "execution_count": 111,
   "id": "c90e0b50",
   "metadata": {},
   "outputs": [
    {
     "data": {
      "application/vnd.microsoft.datawrangler.viewer.v0+json": {
       "columns": [
        {
         "name": "index",
         "rawType": "object",
         "type": "string"
        },
        {
         "name": "0",
         "rawType": "int64",
         "type": "integer"
        }
       ],
       "ref": "81c3332d-547e-46b6-89f1-7685402e7b4f",
       "rows": [
        [
         "brand",
         "0"
        ],
        [
         "model",
         "0"
        ],
        [
         "model_year",
         "0"
        ],
        [
         "milage",
         "0"
        ],
        [
         "fuel_type",
         "127"
        ],
        [
         "engine",
         "0"
        ],
        [
         "transmission",
         "0"
        ],
        [
         "ext_col",
         "0"
        ],
        [
         "int_col",
         "0"
        ],
        [
         "accident",
         "91"
        ],
        [
         "clean_title",
         "470"
        ],
        [
         "price",
         "0"
        ]
       ],
       "shape": {
        "columns": 1,
        "rows": 12
       }
      },
      "text/plain": [
       "brand             0\n",
       "model             0\n",
       "model_year        0\n",
       "milage            0\n",
       "fuel_type       127\n",
       "engine            0\n",
       "transmission      0\n",
       "ext_col           0\n",
       "int_col           0\n",
       "accident         91\n",
       "clean_title     470\n",
       "price             0\n",
       "dtype: int64"
      ]
     },
     "execution_count": 111,
     "metadata": {},
     "output_type": "execute_result"
    }
   ],
   "source": [
    "df_train.isnull().sum()"
   ]
  },
  {
   "cell_type": "code",
   "execution_count": 112,
   "id": "30a6105f",
   "metadata": {},
   "outputs": [
    {
     "data": {
      "application/vnd.microsoft.datawrangler.viewer.v0+json": {
       "columns": [
        {
         "name": "index",
         "rawType": "object",
         "type": "string"
        },
        {
         "name": "0",
         "rawType": "int64",
         "type": "integer"
        }
       ],
       "ref": "35770346-b528-4222-89c4-432a950cc765",
       "rows": [
        [
         "brand",
         "0"
        ],
        [
         "model",
         "0"
        ],
        [
         "model_year",
         "0"
        ],
        [
         "milage",
         "0"
        ],
        [
         "fuel_type",
         "43"
        ],
        [
         "engine",
         "0"
        ],
        [
         "transmission",
         "0"
        ],
        [
         "ext_col",
         "0"
        ],
        [
         "int_col",
         "0"
        ],
        [
         "accident",
         "22"
        ],
        [
         "clean_title",
         "126"
        ],
        [
         "price",
         "0"
        ]
       ],
       "shape": {
        "columns": 1,
        "rows": 12
       }
      },
      "text/plain": [
       "brand             0\n",
       "model             0\n",
       "model_year        0\n",
       "milage            0\n",
       "fuel_type        43\n",
       "engine            0\n",
       "transmission      0\n",
       "ext_col           0\n",
       "int_col           0\n",
       "accident         22\n",
       "clean_title     126\n",
       "price             0\n",
       "dtype: int64"
      ]
     },
     "execution_count": 112,
     "metadata": {},
     "output_type": "execute_result"
    }
   ],
   "source": [
    "df_test.isnull().sum()"
   ]
  },
  {
   "cell_type": "code",
   "execution_count": 113,
   "id": "0de9bd63",
   "metadata": {},
   "outputs": [
    {
     "data": {
      "image/png": "[encoded data removed]",
      "text/plain": [
       "<Figure size 1200x600 with 1 Axes>"
      ]
     },
     "metadata": {},
     "output_type": "display_data"
    }
   ],
   "source": [
    "plt.figure(figsize=(12, 6))\n",
    "sns.barplot(x='brand', y='price', data=df_train, errorbar=None)\n",
    "plt.title(\"Average Price by Car Brand\")\n",
    "plt.xlabel(\"Brand\")\n",
    "plt.ylabel(\"Average Price\")\n",
    "plt.xticks(rotation=90)\n",
    "plt.show()"
   ]
  },
  {
   "cell_type": "markdown",
   "id": "083a8d4f",
   "metadata": {},
   "source": [
    "Not quite sure how to get rid of that mess of characters on the y axis, but oh well. I really need to study up on graphing in Python. Despite this small issue, it's clear that this is a major step I missed in the data inspection, regardless of my intention to learn graphing at a later time."
   ]
  }
 ],
 "metadata": {
  "kernelspec": {
   "display_name": "lin-reg-env",
   "language": "python",
   "name": "python3"
  },
  "language_info": {
   "codemirror_mode": {
    "name": "ipython",
    "version": 3
   },
   "file_extension": ".py",
   "mimetype": "text/x-python",
   "name": "python",
   "nbconvert_exporter": "python",
   "pygments_lexer": "ipython3",
   "version": "3.13.9"
  }
 },
 "nbformat": 4,
 "nbformat_minor": 5
}
