{
 "cells": [
  {
   "cell_type": "markdown",
   "id": "b2e99239",
   "metadata": {},
   "source": [
    "# Used Car Price Prediction\n",
    "\n",
    "[Kaggle Resource](https://www.kaggle.com/datasets/taeefnajib/used-car-price-prediction-dataset)\n",
    "\n",
    "After countless total hours... probably even total days of learning, studying, preparation, examination of best practices, and relearning... it's finally time to get down to business.\n",
    "\n",
    "I've also recently decided that you can only do so much preparation for a complicated field like ML, so I'm going to likely have to fill in some gaps along the way here. Thankfully, Kaggle has a LOT of publicly posted code to assist me here. I will abstain from referencing it as long as I can though, and will make sure to give credit where it's due.\n",
    "\n",
    "Anyway, I believe this data marks a perfect balance between a challenging and approachable project. Let's begin."
   ]
  },
  {
   "cell_type": "markdown",
   "id": "5fe1de0b",
   "metadata": {
    "vscode": {
     "languageId": "plaintext"
    }
   },
   "source": [
    "# Load and Examine Data"
   ]
  },
  {
   "cell_type": "code",
   "execution_count": 614,
   "id": "a85bed7f",
   "metadata": {},
   "outputs": [],
   "source": [
    "import pandas as pd\n",
    "import re\n",
    "import numpy as np\n",
    "import sklearn as skl\n",
    "import seaborn as sns\n",
    "import matplotlib.pyplot as plt\n",
    "from sklearn.impute import SimpleImputer\n",
    "from sklearn.preprocessing import OneHotEncoder\n",
    "from sklearn.experimental import enable_iterative_imputer\n",
    "from sklearn.impute import IterativeImputer"
   ]
  },
  {
   "cell_type": "code",
   "execution_count": 615,
   "id": "f2c7a0d8",
   "metadata": {},
   "outputs": [
    {
     "name": "stdout",
     "output_type": "stream",
     "text": [
      "4009\n"
     ]
    }
   ],
   "source": [
    "cars = pd.read_csv(\"data/used_cars.csv\")\n",
    "print(len(cars))"
   ]
  },
  {
   "cell_type": "markdown",
   "id": "131a11c1",
   "metadata": {},
   "source": [
    "Let's just get a quick overview of some basic precleaning stuff."
   ]
  },
  {
   "cell_type": "code",
   "execution_count": 616,
   "id": "4a9f0875",
   "metadata": {},
   "outputs": [
    {
     "name": "stdout",
     "output_type": "stream",
     "text": [
      "<class 'pandas.core.frame.DataFrame'>\n",
      "RangeIndex: 4009 entries, 0 to 4008\n",
      "Data columns (total 12 columns):\n",
      " #   Column        Non-Null Count  Dtype \n",
      "---  ------        --------------  ----- \n",
      " 0   brand         4009 non-null   object\n",
      " 1   model         4009 non-null   object\n",
      " 2   model_year    4009 non-null   int64 \n",
      " 3   milage        4009 non-null   object\n",
      " 4   fuel_type     3839 non-null   object\n",
      " 5   engine        4009 non-null   object\n",
      " 6   transmission  4009 non-null   object\n",
      " 7   ext_col       4009 non-null   object\n",
      " 8   int_col       4009 non-null   object\n",
      " 9   accident      3896 non-null   object\n",
      " 10  clean_title   3413 non-null   object\n",
      " 11  price         4009 non-null   object\n",
      "dtypes: int64(1), object(11)\n",
      "memory usage: 376.0+ KB\n"
     ]
    }
   ],
   "source": [
    "cars.info()"
   ]
  },
  {
   "cell_type": "code",
   "execution_count": 617,
   "id": "a6fbaeb5",
   "metadata": {},
   "outputs": [
    {
     "name": "stdout",
     "output_type": "stream",
     "text": [
      "Missing Values:\n",
      "brand             0\n",
      "model             0\n",
      "model_year        0\n",
      "milage            0\n",
      "fuel_type       170\n",
      "engine            0\n",
      "transmission      0\n",
      "ext_col           0\n",
      "int_col           0\n",
      "accident        113\n",
      "clean_title     596\n",
      "price             0\n",
      "dtype: int64\n",
      "\n",
      "Total Duplicates:\n",
      "0\n"
     ]
    }
   ],
   "source": [
    "print(f\"Missing Values:\\n{cars.isna().sum()}\\n\\nTotal Duplicates:\\n{cars.duplicated().sum()}\")"
   ]
  },
  {
   "cell_type": "markdown",
   "id": "059824e8",
   "metadata": {},
   "source": [
    "Now that that's out of the way, it's time to actually take a peak at the data."
   ]
  },
  {
   "cell_type": "code",
   "execution_count": 618,
   "id": "bcfec231",
   "metadata": {},
   "outputs": [
    {
     "data": {
      "application/vnd.microsoft.datawrangler.viewer.v0+json": {
       "columns": [
        {
         "name": "index",
         "rawType": "int64",
         "type": "integer"
        },
        {
         "name": "brand",
         "rawType": "object",
         "type": "string"
        },
        {
         "name": "model",
         "rawType": "object",
         "type": "string"
        },
        {
         "name": "model_year",
         "rawType": "int64",
         "type": "integer"
        },
        {
         "name": "milage",
         "rawType": "object",
         "type": "string"
        },
        {
         "name": "fuel_type",
         "rawType": "object",
         "type": "unknown"
        },
        {
         "name": "engine",
         "rawType": "object",
         "type": "string"
        },
        {
         "name": "transmission",
         "rawType": "object",
         "type": "string"
        },
        {
         "name": "ext_col",
         "rawType": "object",
         "type": "string"
        },
        {
         "name": "int_col",
         "rawType": "object",
         "type": "string"
        },
        {
         "name": "accident",
         "rawType": "object",
         "type": "string"
        },
        {
         "name": "clean_title",
         "rawType": "object",
         "type": "unknown"
        },
        {
         "name": "price",
         "rawType": "object",
         "type": "string"
        }
       ],
       "ref": "0ac0370d-3800-41b1-a3cd-bebb9d7afb94",
       "rows": [
        [
         "0",
         "Ford",
         "Utility Police Interceptor Base",
         "2013",
         "51,000 mi.",
         "E85 Flex Fuel",
         "300.0HP 3.7L V6 Cylinder Engine Flex Fuel Capability",
         "6-Speed A/T",
         "Black",
         "Black",
         "At least 1 accident or damage reported",
         "Yes",
         "$10,300"
        ],
        [
         "1",
         "Hyundai",
         "Palisade SEL",
         "2021",
         "34,742 mi.",
         "Gasoline",
         "3.8L V6 24V GDI DOHC",
         "8-Speed Automatic",
         "Moonlight Cloud",
         "Gray",
         "At least 1 accident or damage reported",
         "Yes",
         "$38,005"
        ],
        [
         "2",
         "Lexus",
         "RX 350 RX 350",
         "2022",
         "22,372 mi.",
         "Gasoline",
         "3.5 Liter DOHC",
         "Automatic",
         "Blue",
         "Black",
         "None reported",
         null,
         "$54,598"
        ],
        [
         "3",
         "INFINITI",
         "Q50 Hybrid Sport",
         "2015",
         "88,900 mi.",
         "Hybrid",
         "354.0HP 3.5L V6 Cylinder Engine Gas/Electric Hybrid",
         "7-Speed A/T",
         "Black",
         "Black",
         "None reported",
         "Yes",
         "$15,500"
        ],
        [
         "4",
         "Audi",
         "Q3 45 S line Premium Plus",
         "2021",
         "9,835 mi.",
         "Gasoline",
         "2.0L I4 16V GDI DOHC Turbo",
         "8-Speed Automatic",
         "Glacier White Metallic",
         "Black",
         "None reported",
         null,
         "$34,999"
        ],
        [
         "5",
         "Acura",
         "ILX 2.4L",
         "2016",
         "136,397 mi.",
         "Gasoline",
         "2.4 Liter",
         "F",
         "Silver",
         "Ebony.",
         "None reported",
         null,
         "$14,798"
        ],
        [
         "6",
         "Audi",
         "S3 2.0T Premium Plus",
         "2017",
         "84,000 mi.",
         "Gasoline",
         "292.0HP 2.0L 4 Cylinder Engine Gasoline Fuel",
         "6-Speed A/T",
         "Blue",
         "Black",
         "None reported",
         "Yes",
         "$31,000"
        ],
        [
         "7",
         "BMW",
         "740 iL",
         "2001",
         "242,000 mi.",
         "Gasoline",
         "282.0HP 4.4L 8 Cylinder Engine Gasoline Fuel",
         "A/T",
         "Green",
         "Green",
         "None reported",
         "Yes",
         "$7,300"
        ],
        [
         "8",
         "Lexus",
         "RC 350 F Sport",
         "2021",
         "23,436 mi.",
         "Gasoline",
         "311.0HP 3.5L V6 Cylinder Engine Gasoline Fuel",
         "6-Speed A/T",
         "Black",
         "Black",
         "None reported",
         "Yes",
         "$41,927"
        ],
        [
         "9",
         "Tesla",
         "Model X Long Range Plus",
         "2020",
         "34,000 mi.",
         null,
         "534.0HP Electric Motor Electric Fuel System",
         "A/T",
         "Black",
         "Black",
         "None reported",
         "Yes",
         "$69,950"
        ]
       ],
       "shape": {
        "columns": 12,
        "rows": 10
       }
      },
      "text/html": [
       "<div>\n",
       "<style scoped>\n",
       "    .dataframe tbody tr th:only-of-type {\n",
       "        vertical-align: middle;\n",
       "    }\n",
       "\n",
       "    .dataframe tbody tr th {\n",
       "        vertical-align: top;\n",
       "    }\n",
       "\n",
       "    .dataframe thead th {\n",
       "        text-align: right;\n",
       "    }\n",
       "</style>\n",
       "<table border=\"1\" class=\"dataframe\">\n",
       "  <thead>\n",
       "    <tr style=\"text-align: right;\">\n",
       "      <th></th>\n",
       "      <th>brand</th>\n",
       "      <th>model</th>\n",
       "      <th>model_year</th>\n",
       "      <th>milage</th>\n",
       "      <th>fuel_type</th>\n",
       "      <th>engine</th>\n",
       "      <th>transmission</th>\n",
       "      <th>ext_col</th>\n",
       "      <th>int_col</th>\n",
       "      <th>accident</th>\n",
       "      <th>clean_title</th>\n",
       "      <th>price</th>\n",
       "    </tr>\n",
       "  </thead>\n",
       "  <tbody>\n",
       "    <tr>\n",
       "      <th>0</th>\n",
       "      <td>Ford</td>\n",
       "      <td>Utility Police Interceptor Base</td>\n",
       "      <td>2013</td>\n",
       "      <td>51,000 mi.</td>\n",
       "      <td>E85 Flex Fuel</td>\n",
       "      <td>300.0HP 3.7L V6 Cylinder Engine Flex Fuel Capa...</td>\n",
       "      <td>6-Speed A/T</td>\n",
       "      <td>Black</td>\n",
       "      <td>Black</td>\n",
       "      <td>At least 1 accident or damage reported</td>\n",
       "      <td>Yes</td>\n",
       "      <td>$10,300</td>\n",
       "    </tr>\n",
       "    <tr>\n",
       "      <th>1</th>\n",
       "      <td>Hyundai</td>\n",
       "      <td>Palisade SEL</td>\n",
       "      <td>2021</td>\n",
       "      <td>34,742 mi.</td>\n",
       "      <td>Gasoline</td>\n",
       "      <td>3.8L V6 24V GDI DOHC</td>\n",
       "      <td>8-Speed Automatic</td>\n",
       "      <td>Moonlight Cloud</td>\n",
       "      <td>Gray</td>\n",
       "      <td>At least 1 accident or damage reported</td>\n",
       "      <td>Yes</td>\n",
       "      <td>$38,005</td>\n",
       "    </tr>\n",
       "    <tr>\n",
       "      <th>2</th>\n",
       "      <td>Lexus</td>\n",
       "      <td>RX 350 RX 350</td>\n",
       "      <td>2022</td>\n",
       "      <td>22,372 mi.</td>\n",
       "      <td>Gasoline</td>\n",
       "      <td>3.5 Liter DOHC</td>\n",
       "      <td>Automatic</td>\n",
       "      <td>Blue</td>\n",
       "      <td>Black</td>\n",
       "      <td>None reported</td>\n",
       "      <td>NaN</td>\n",
       "      <td>$54,598</td>\n",
       "    </tr>\n",
       "    <tr>\n",
       "      <th>3</th>\n",
       "      <td>INFINITI</td>\n",
       "      <td>Q50 Hybrid Sport</td>\n",
       "      <td>2015</td>\n",
       "      <td>88,900 mi.</td>\n",
       "      <td>Hybrid</td>\n",
       "      <td>354.0HP 3.5L V6 Cylinder Engine Gas/Electric H...</td>\n",
       "      <td>7-Speed A/T</td>\n",
       "      <td>Black</td>\n",
       "      <td>Black</td>\n",
       "      <td>None reported</td>\n",
       "      <td>Yes</td>\n",
       "      <td>$15,500</td>\n",
       "    </tr>\n",
       "    <tr>\n",
       "      <th>4</th>\n",
       "      <td>Audi</td>\n",
       "      <td>Q3 45 S line Premium Plus</td>\n",
       "      <td>2021</td>\n",
       "      <td>9,835 mi.</td>\n",
       "      <td>Gasoline</td>\n",
       "      <td>2.0L I4 16V GDI DOHC Turbo</td>\n",
       "      <td>8-Speed Automatic</td>\n",
       "      <td>Glacier White Metallic</td>\n",
       "      <td>Black</td>\n",
       "      <td>None reported</td>\n",
       "      <td>NaN</td>\n",
       "      <td>$34,999</td>\n",
       "    </tr>\n",
       "    <tr>\n",
       "      <th>5</th>\n",
       "      <td>Acura</td>\n",
       "      <td>ILX 2.4L</td>\n",
       "      <td>2016</td>\n",
       "      <td>136,397 mi.</td>\n",
       "      <td>Gasoline</td>\n",
       "      <td>2.4 Liter</td>\n",
       "      <td>F</td>\n",
       "      <td>Silver</td>\n",
       "      <td>Ebony.</td>\n",
       "      <td>None reported</td>\n",
       "      <td>NaN</td>\n",
       "      <td>$14,798</td>\n",
       "    </tr>\n",
       "    <tr>\n",
       "      <th>6</th>\n",
       "      <td>Audi</td>\n",
       "      <td>S3 2.0T Premium Plus</td>\n",
       "      <td>2017</td>\n",
       "      <td>84,000 mi.</td>\n",
       "      <td>Gasoline</td>\n",
       "      <td>292.0HP 2.0L 4 Cylinder Engine Gasoline Fuel</td>\n",
       "      <td>6-Speed A/T</td>\n",
       "      <td>Blue</td>\n",
       "      <td>Black</td>\n",
       "      <td>None reported</td>\n",
       "      <td>Yes</td>\n",
       "      <td>$31,000</td>\n",
       "    </tr>\n",
       "    <tr>\n",
       "      <th>7</th>\n",
       "      <td>BMW</td>\n",
       "      <td>740 iL</td>\n",
       "      <td>2001</td>\n",
       "      <td>242,000 mi.</td>\n",
       "      <td>Gasoline</td>\n",
       "      <td>282.0HP 4.4L 8 Cylinder Engine Gasoline Fuel</td>\n",
       "      <td>A/T</td>\n",
       "      <td>Green</td>\n",
       "      <td>Green</td>\n",
       "      <td>None reported</td>\n",
       "      <td>Yes</td>\n",
       "      <td>$7,300</td>\n",
       "    </tr>\n",
       "    <tr>\n",
       "      <th>8</th>\n",
       "      <td>Lexus</td>\n",
       "      <td>RC 350 F Sport</td>\n",
       "      <td>2021</td>\n",
       "      <td>23,436 mi.</td>\n",
       "      <td>Gasoline</td>\n",
       "      <td>311.0HP 3.5L V6 Cylinder Engine Gasoline Fuel</td>\n",
       "      <td>6-Speed A/T</td>\n",
       "      <td>Black</td>\n",
       "      <td>Black</td>\n",
       "      <td>None reported</td>\n",
       "      <td>Yes</td>\n",
       "      <td>$41,927</td>\n",
       "    </tr>\n",
       "    <tr>\n",
       "      <th>9</th>\n",
       "      <td>Tesla</td>\n",
       "      <td>Model X Long Range Plus</td>\n",
       "      <td>2020</td>\n",
       "      <td>34,000 mi.</td>\n",
       "      <td>NaN</td>\n",
       "      <td>534.0HP Electric Motor Electric Fuel System</td>\n",
       "      <td>A/T</td>\n",
       "      <td>Black</td>\n",
       "      <td>Black</td>\n",
       "      <td>None reported</td>\n",
       "      <td>Yes</td>\n",
       "      <td>$69,950</td>\n",
       "    </tr>\n",
       "  </tbody>\n",
       "</table>\n",
       "</div>"
      ],
      "text/plain": [
       "      brand                            model  model_year       milage  \\\n",
       "0      Ford  Utility Police Interceptor Base        2013   51,000 mi.   \n",
       "1   Hyundai                     Palisade SEL        2021   34,742 mi.   \n",
       "2     Lexus                    RX 350 RX 350        2022   22,372 mi.   \n",
       "3  INFINITI                 Q50 Hybrid Sport        2015   88,900 mi.   \n",
       "4      Audi        Q3 45 S line Premium Plus        2021    9,835 mi.   \n",
       "5     Acura                         ILX 2.4L        2016  136,397 mi.   \n",
       "6      Audi             S3 2.0T Premium Plus        2017   84,000 mi.   \n",
       "7       BMW                           740 iL        2001  242,000 mi.   \n",
       "8     Lexus                   RC 350 F Sport        2021   23,436 mi.   \n",
       "9     Tesla          Model X Long Range Plus        2020   34,000 mi.   \n",
       "\n",
       "       fuel_type                                             engine  \\\n",
       "0  E85 Flex Fuel  300.0HP 3.7L V6 Cylinder Engine Flex Fuel Capa...   \n",
       "1       Gasoline                               3.8L V6 24V GDI DOHC   \n",
       "2       Gasoline                                     3.5 Liter DOHC   \n",
       "3         Hybrid  354.0HP 3.5L V6 Cylinder Engine Gas/Electric H...   \n",
       "4       Gasoline                         2.0L I4 16V GDI DOHC Turbo   \n",
       "5       Gasoline                                          2.4 Liter   \n",
       "6       Gasoline       292.0HP 2.0L 4 Cylinder Engine Gasoline Fuel   \n",
       "7       Gasoline       282.0HP 4.4L 8 Cylinder Engine Gasoline Fuel   \n",
       "8       Gasoline      311.0HP 3.5L V6 Cylinder Engine Gasoline Fuel   \n",
       "9            NaN        534.0HP Electric Motor Electric Fuel System   \n",
       "\n",
       "        transmission                 ext_col int_col  \\\n",
       "0        6-Speed A/T                   Black   Black   \n",
       "1  8-Speed Automatic         Moonlight Cloud    Gray   \n",
       "2          Automatic                    Blue   Black   \n",
       "3        7-Speed A/T                   Black   Black   \n",
       "4  8-Speed Automatic  Glacier White Metallic   Black   \n",
       "5                  F                  Silver  Ebony.   \n",
       "6        6-Speed A/T                    Blue   Black   \n",
       "7                A/T                   Green   Green   \n",
       "8        6-Speed A/T                   Black   Black   \n",
       "9                A/T                   Black   Black   \n",
       "\n",
       "                                 accident clean_title    price  \n",
       "0  At least 1 accident or damage reported         Yes  $10,300  \n",
       "1  At least 1 accident or damage reported         Yes  $38,005  \n",
       "2                           None reported         NaN  $54,598  \n",
       "3                           None reported         Yes  $15,500  \n",
       "4                           None reported         NaN  $34,999  \n",
       "5                           None reported         NaN  $14,798  \n",
       "6                           None reported         Yes  $31,000  \n",
       "7                           None reported         Yes   $7,300  \n",
       "8                           None reported         Yes  $41,927  \n",
       "9                           None reported         Yes  $69,950  "
      ]
     },
     "execution_count": 618,
     "metadata": {},
     "output_type": "execute_result"
    }
   ],
   "source": [
    "cars.head(10)"
   ]
  },
  {
   "cell_type": "markdown",
   "id": "21f3ab75",
   "metadata": {},
   "source": [
    "# Clean the Data\n",
    "\n",
    "Now that the preliminary stuff is out of the way, let's start cleaning the data up.\n",
    "\n",
    "It'd be best to start simple here and worry about the basic numeric conversion first. We'll start by removing unnecessary string values from columns that will be designated as strictly numeric. I also think it'd be interesting to see if there are any differences in the model outputs when using `float32` instead of `float64`. We'll get to that much later though.\n",
    "\n",
    "For now, let's start with simple data cleaning. Then we can chip away at the more tricky regex stuff and increase the complexity as we get a feel for the data.\n",
    "\n",
    "**Note: We can definitely work on making this SIGNIFICANTLY cleaner by aggregating a lot of this into less lines of code. We want BEST PRACTICES AND THIS IS NOT THAT.**"
   ]
  },
  {
   "cell_type": "code",
   "execution_count": 619,
   "id": "326a3463",
   "metadata": {},
   "outputs": [
    {
     "name": "stdout",
     "output_type": "stream",
     "text": [
      "Conflicting fuel type values? False\n",
      "Conflicting transmission values? False\n"
     ]
    },
    {
     "data": {
      "application/vnd.microsoft.datawrangler.viewer.v0+json": {
       "columns": [
        {
         "name": "index",
         "rawType": "int64",
         "type": "integer"
        },
        {
         "name": "brand",
         "rawType": "object",
         "type": "string"
        },
        {
         "name": "model",
         "rawType": "object",
         "type": "string"
        },
        {
         "name": "model_year",
         "rawType": "int64",
         "type": "integer"
        },
        {
         "name": "milage",
         "rawType": "object",
         "type": "string"
        },
        {
         "name": "price",
         "rawType": "object",
         "type": "string"
        },
        {
         "name": "horsepower",
         "rawType": "object",
         "type": "unknown"
        },
        {
         "name": "liters",
         "rawType": "object",
         "type": "unknown"
        },
        {
         "name": "gas_diesel_other",
         "rawType": "bool",
         "type": "boolean"
        },
        {
         "name": "hybrid",
         "rawType": "bool",
         "type": "boolean"
        },
        {
         "name": "electric",
         "rawType": "bool",
         "type": "boolean"
        },
        {
         "name": "automatic_transmission",
         "rawType": "bool",
         "type": "boolean"
        },
        {
         "name": "dual_shift_transmission",
         "rawType": "bool",
         "type": "boolean"
        },
        {
         "name": "manual_transmission",
         "rawType": "bool",
         "type": "boolean"
        },
        {
         "name": "accident_bool",
         "rawType": "bool",
         "type": "boolean"
        }
       ],
       "ref": "9d0ff1de-5ce1-4b51-9c14-8a7dbf60ff91",
       "rows": [
        [
         "0",
         "Ford",
         "Utility Police Interceptor Base",
         "2013",
         "51000",
         "10300",
         "300.0",
         "3.7",
         "True",
         "False",
         "False",
         "True",
         "False",
         "False",
         "True"
        ],
        [
         "1",
         "Hyundai",
         "Palisade SEL",
         "2021",
         "34742",
         "38005",
         null,
         "3.8",
         "True",
         "False",
         "False",
         "True",
         "False",
         "False",
         "True"
        ],
        [
         "2",
         "Lexus",
         "RX 350 RX 350",
         "2022",
         "22372",
         "54598",
         null,
         null,
         "True",
         "False",
         "False",
         "True",
         "False",
         "False",
         "False"
        ],
        [
         "3",
         "INFINITI",
         "Q50 Hybrid Sport",
         "2015",
         "88900",
         "15500",
         "354.0",
         "3.5",
         "False",
         "True",
         "False",
         "True",
         "False",
         "False",
         "False"
        ],
        [
         "4",
         "Audi",
         "Q3 45 S line Premium Plus",
         "2021",
         "9835",
         "34999",
         null,
         "2.0",
         "True",
         "False",
         "False",
         "True",
         "False",
         "False",
         "False"
        ],
        [
         "6",
         "Audi",
         "S3 2.0T Premium Plus",
         "2017",
         "84000",
         "31000",
         "292.0",
         "2.0",
         "True",
         "False",
         "False",
         "True",
         "False",
         "False",
         "False"
        ],
        [
         "7",
         "BMW",
         "740 iL",
         "2001",
         "242000",
         "7300",
         "282.0",
         "4.4",
         "True",
         "False",
         "False",
         "True",
         "False",
         "False",
         "False"
        ],
        [
         "8",
         "Lexus",
         "RC 350 F Sport",
         "2021",
         "23436",
         "41927",
         "311.0",
         "3.5",
         "True",
         "False",
         "False",
         "True",
         "False",
         "False",
         "False"
        ],
        [
         "9",
         "Tesla",
         "Model X Long Range Plus",
         "2020",
         "34000",
         "69950",
         "534.0",
         null,
         "False",
         "False",
         "True",
         "True",
         "False",
         "False",
         "False"
        ],
        [
         "10",
         "Land",
         "Rover Range Rover Sport 3.0 Supercharged HST",
         "2021",
         "27608",
         "73897",
         null,
         null,
         "True",
         "False",
         "False",
         "True",
         "False",
         "False",
         "False"
        ],
        [
         "11",
         "Aston",
         "Martin DBS Superleggera",
         "2019",
         "22770",
         "184606",
         "715.0",
         "5.2",
         "True",
         "False",
         "False",
         "True",
         "False",
         "False",
         "False"
        ],
        [
         "12",
         "Toyota",
         "Supra 3.0 Premium",
         "2021",
         "12500",
         "53500",
         "382.0",
         "3.0",
         "True",
         "False",
         "False",
         "True",
         "False",
         "False",
         "False"
        ],
        [
         "13",
         "Lincoln",
         "Aviator Reserve AWD",
         "2022",
         "18196",
         "62000",
         "400.0",
         "3.0",
         "True",
         "False",
         "False",
         "False",
         "True",
         "False",
         "False"
        ],
        [
         "14",
         "Jaguar",
         "F-TYPE",
         "2020",
         "15903",
         "47998",
         null,
         null,
         "True",
         "False",
         "False",
         "True",
         "False",
         "False",
         "False"
        ],
        [
         "15",
         "Land",
         "Rover LR4 HSE",
         "2013",
         "79800",
         "29990",
         "375.0",
         "5.0",
         "True",
         "False",
         "False",
         "True",
         "False",
         "False",
         "False"
        ],
        [
         "16",
         "Mercedes-Benz",
         "Metris Base",
         "2021",
         "1685",
         "250000",
         null,
         "2.0",
         "True",
         "False",
         "False",
         "True",
         "False",
         "False",
         "False"
        ],
        [
         "17",
         "Dodge",
         "Challenger SXT",
         "2013",
         "61074",
         "16800",
         "305.0",
         "3.6",
         "True",
         "False",
         "False",
         "True",
         "False",
         "False",
         "False"
        ],
        [
         "18",
         "Nissan",
         "350Z Enthusiast",
         "2003",
         "74000",
         "11000",
         "287.0",
         "3.5",
         "True",
         "False",
         "False",
         "False",
         "False",
         "True",
         "False"
        ],
        [
         "19",
         "Jaguar",
         "F-TYPE R",
         "2018",
         "35250",
         "68750",
         "550.0",
         "5.0",
         "True",
         "False",
         "False",
         "True",
         "False",
         "False",
         "False"
        ],
        [
         "21",
         "Chevrolet",
         "S-10 LS",
         "2000",
         "133510",
         "4500",
         "120.0",
         "2.2",
         "True",
         "False",
         "False",
         "True",
         "False",
         "False",
         "False"
        ],
        [
         "22",
         "BMW",
         "440 Gran Coupe 440i xDrive",
         "2020",
         "25990",
         "38598",
         null,
         null,
         "True",
         "False",
         "False",
         "True",
         "False",
         "False",
         "False"
        ],
        [
         "23",
         "Ford",
         "F-150 XLT",
         "2023",
         "2823",
         "58504",
         null,
         "3.5",
         "True",
         "False",
         "False",
         "True",
         "False",
         "False",
         "False"
        ],
        [
         "24",
         "Chevrolet",
         "Suburban RST",
         "2021",
         "52000",
         "61000",
         "355.0",
         "5.3",
         "True",
         "False",
         "False",
         "True",
         "False",
         "False",
         "False"
        ],
        [
         "25",
         "Hyundai",
         "Elantra N Base",
         "2022",
         "11650",
         "32300",
         "276.0",
         "2.0",
         "True",
         "False",
         "False",
         "False",
         "True",
         "False",
         "False"
        ],
        [
         "26",
         "Nissan",
         "Sentra SR",
         "2016",
         "96541",
         "13998",
         null,
         null,
         "True",
         "False",
         "False",
         "True",
         "False",
         "False",
         "False"
        ],
        [
         "27",
         "Mercedes-Benz",
         "AMG CLA 45 Base 4MATIC",
         "2021",
         "17500",
         "59995",
         "382.0",
         "2.0",
         "True",
         "False",
         "False",
         "True",
         "False",
         "False",
         "False"
        ],
        [
         "28",
         "BMW",
         "650 Gran Coupe i xDrive",
         "2015",
         "69000",
         "25700",
         "445.0",
         "4.4",
         "True",
         "False",
         "False",
         "True",
         "False",
         "False",
         "False"
        ],
        [
         "29",
         "Audi",
         "Q5 2.0T Premium Plus",
         "2017",
         "81880",
         "21375",
         null,
         "2.0",
         "True",
         "False",
         "False",
         "True",
         "False",
         "False",
         "False"
        ],
        [
         "30",
         "Mercedes-Benz",
         "AMG C 43 Base 4MATIC",
         "2018",
         "28800",
         "48000",
         "362.0",
         "3.0",
         "True",
         "False",
         "False",
         "True",
         "False",
         "False",
         "False"
        ],
        [
         "31",
         "Dodge",
         "Ram 1500 Laramie Mega Cab",
         "2006",
         "300183",
         "10900",
         "345.0",
         "5.7",
         "True",
         "False",
         "False",
         "True",
         "False",
         "False",
         "True"
        ],
        [
         "32",
         "BMW",
         "i3 120Ah w/Range Extender",
         "2020",
         "35035",
         "24998",
         null,
         null,
         "False",
         "True",
         "False",
         "True",
         "False",
         "False",
         "False"
        ],
        [
         "33",
         "Kia",
         "Sorento SX",
         "2011",
         "171000",
         "5999",
         "276.0",
         "3.5",
         "True",
         "False",
         "False",
         "True",
         "False",
         "False",
         "False"
        ],
        [
         "34",
         "Lexus",
         "LX 570 Base",
         "2016",
         "118700",
         "46900",
         "383.0",
         "5.7",
         "True",
         "False",
         "False",
         "True",
         "False",
         "False",
         "False"
        ],
        [
         "35",
         "Jeep",
         "New Compass Trailhawk",
         "2017",
         "119000",
         "15900",
         "180.0",
         "2.4",
         "True",
         "False",
         "False",
         "True",
         "False",
         "False",
         "False"
        ],
        [
         "36",
         "BMW",
         "340 i",
         "2018",
         "44261",
         "33598",
         null,
         null,
         "True",
         "False",
         "False",
         "True",
         "False",
         "False",
         "False"
        ],
        [
         "37",
         "Audi",
         "A4 2.0T Premium Plus quattro",
         "2012",
         "125575",
         "8999",
         "211.0",
         "2.0",
         "True",
         "False",
         "False",
         "True",
         "False",
         "False",
         "False"
        ],
        [
         "38",
         "Hyundai",
         "Tucson SE",
         "2007",
         "16200",
         "8200",
         "173.0",
         "2.7",
         "True",
         "False",
         "False",
         "True",
         "False",
         "False",
         "False"
        ],
        [
         "39",
         "BMW",
         "Z4 sDrive28i",
         "2014",
         "70000",
         "20000",
         "240.0",
         "2.0",
         "True",
         "False",
         "False",
         "True",
         "False",
         "False",
         "True"
        ],
        [
         "40",
         "Bentley",
         "Continental GTC Base",
         "2011",
         "20200",
         "79950",
         "552.0",
         "6.0",
         "True",
         "False",
         "False",
         "True",
         "False",
         "False",
         "False"
        ],
        [
         "41",
         "Honda",
         "Passport Elite",
         "2023",
         "2978",
         "45498",
         null,
         null,
         "True",
         "False",
         "False",
         "True",
         "False",
         "False",
         "False"
        ],
        [
         "42",
         "Dodge",
         "Sprinter 2500",
         "2007",
         "189719",
         "14000",
         null,
         "3.0",
         "True",
         "False",
         "False",
         "True",
         "False",
         "False",
         "True"
        ],
        [
         "43",
         "BMW",
         "M850 i xDrive",
         "2019",
         "9949",
         "75798",
         null,
         null,
         "True",
         "False",
         "False",
         "True",
         "False",
         "False",
         "False"
        ],
        [
         "44",
         "Lucid",
         "Air Grand Touring",
         "2022",
         "3552",
         "119999",
         "536.0",
         null,
         "False",
         "False",
         "True",
         "True",
         "False",
         "False",
         "False"
        ],
        [
         "45",
         "Audi",
         "A7 Premium",
         "2012",
         "54000",
         "36880",
         "310.0",
         "3.0",
         "True",
         "False",
         "False",
         "True",
         "False",
         "False",
         "True"
        ],
        [
         "46",
         "Chevrolet",
         "Silverado 1500 Custom Trail Boss",
         "2021",
         "51351",
         "43147",
         null,
         "5.3",
         "True",
         "False",
         "False",
         "True",
         "False",
         "False",
         "False"
        ],
        [
         "47",
         "MINI",
         "Convertible John Cooper Works",
         "2017",
         "24280",
         "29000",
         "228.0",
         "2.0",
         "True",
         "False",
         "False",
         "True",
         "False",
         "False",
         "True"
        ],
        [
         "48",
         "Toyota",
         "Avalon Touring",
         "2016",
         "89148",
         "17500",
         "268.0",
         "3.5",
         "True",
         "False",
         "False",
         "True",
         "False",
         "False",
         "False"
        ],
        [
         "49",
         "Porsche",
         "Cayenne Platinum Edition",
         "2017",
         "73043",
         "30990",
         "300.0",
         "3.6",
         "True",
         "False",
         "False",
         "True",
         "False",
         "False",
         "False"
        ],
        [
         "50",
         "Mercedes-Benz",
         "AMG C 63 S",
         "2017",
         "60000",
         "52500",
         "503.0",
         "4.0",
         "True",
         "False",
         "False",
         "False",
         "True",
         "False",
         "True"
        ],
        [
         "51",
         "Honda",
         "CR-V EX-L",
         "2016",
         "73549",
         "20848",
         null,
         "2.4",
         "True",
         "False",
         "False",
         "True",
         "False",
         "False",
         "True"
        ]
       ],
       "shape": {
        "columns": 14,
        "rows": 3872
       }
      },
      "text/html": [
       "<div>\n",
       "<style scoped>\n",
       "    .dataframe tbody tr th:only-of-type {\n",
       "        vertical-align: middle;\n",
       "    }\n",
       "\n",
       "    .dataframe tbody tr th {\n",
       "        vertical-align: top;\n",
       "    }\n",
       "\n",
       "    .dataframe thead th {\n",
       "        text-align: right;\n",
       "    }\n",
       "</style>\n",
       "<table border=\"1\" class=\"dataframe\">\n",
       "  <thead>\n",
       "    <tr style=\"text-align: right;\">\n",
       "      <th></th>\n",
       "      <th>brand</th>\n",
       "      <th>model</th>\n",
       "      <th>model_year</th>\n",
       "      <th>milage</th>\n",
       "      <th>price</th>\n",
       "      <th>horsepower</th>\n",
       "      <th>liters</th>\n",
       "      <th>gas_diesel_other</th>\n",
       "      <th>hybrid</th>\n",
       "      <th>electric</th>\n",
       "      <th>automatic_transmission</th>\n",
       "      <th>dual_shift_transmission</th>\n",
       "      <th>manual_transmission</th>\n",
       "      <th>accident_bool</th>\n",
       "    </tr>\n",
       "  </thead>\n",
       "  <tbody>\n",
       "    <tr>\n",
       "      <th>0</th>\n",
       "      <td>Ford</td>\n",
       "      <td>Utility Police Interceptor Base</td>\n",
       "      <td>2013</td>\n",
       "      <td>51000</td>\n",
       "      <td>10300</td>\n",
       "      <td>300.0</td>\n",
       "      <td>3.7</td>\n",
       "      <td>True</td>\n",
       "      <td>False</td>\n",
       "      <td>False</td>\n",
       "      <td>True</td>\n",
       "      <td>False</td>\n",
       "      <td>False</td>\n",
       "      <td>True</td>\n",
       "    </tr>\n",
       "    <tr>\n",
       "      <th>1</th>\n",
       "      <td>Hyundai</td>\n",
       "      <td>Palisade SEL</td>\n",
       "      <td>2021</td>\n",
       "      <td>34742</td>\n",
       "      <td>38005</td>\n",
       "      <td>NaN</td>\n",
       "      <td>3.8</td>\n",
       "      <td>True</td>\n",
       "      <td>False</td>\n",
       "      <td>False</td>\n",
       "      <td>True</td>\n",
       "      <td>False</td>\n",
       "      <td>False</td>\n",
       "      <td>True</td>\n",
       "    </tr>\n",
       "    <tr>\n",
       "      <th>2</th>\n",
       "      <td>Lexus</td>\n",
       "      <td>RX 350 RX 350</td>\n",
       "      <td>2022</td>\n",
       "      <td>22372</td>\n",
       "      <td>54598</td>\n",
       "      <td>NaN</td>\n",
       "      <td>NaN</td>\n",
       "      <td>True</td>\n",
       "      <td>False</td>\n",
       "      <td>False</td>\n",
       "      <td>True</td>\n",
       "      <td>False</td>\n",
       "      <td>False</td>\n",
       "      <td>False</td>\n",
       "    </tr>\n",
       "    <tr>\n",
       "      <th>3</th>\n",
       "      <td>INFINITI</td>\n",
       "      <td>Q50 Hybrid Sport</td>\n",
       "      <td>2015</td>\n",
       "      <td>88900</td>\n",
       "      <td>15500</td>\n",
       "      <td>354.0</td>\n",
       "      <td>3.5</td>\n",
       "      <td>False</td>\n",
       "      <td>True</td>\n",
       "      <td>False</td>\n",
       "      <td>True</td>\n",
       "      <td>False</td>\n",
       "      <td>False</td>\n",
       "      <td>False</td>\n",
       "    </tr>\n",
       "    <tr>\n",
       "      <th>4</th>\n",
       "      <td>Audi</td>\n",
       "      <td>Q3 45 S line Premium Plus</td>\n",
       "      <td>2021</td>\n",
       "      <td>9835</td>\n",
       "      <td>34999</td>\n",
       "      <td>NaN</td>\n",
       "      <td>2.0</td>\n",
       "      <td>True</td>\n",
       "      <td>False</td>\n",
       "      <td>False</td>\n",
       "      <td>True</td>\n",
       "      <td>False</td>\n",
       "      <td>False</td>\n",
       "      <td>False</td>\n",
       "    </tr>\n",
       "    <tr>\n",
       "      <th>...</th>\n",
       "      <td>...</td>\n",
       "      <td>...</td>\n",
       "      <td>...</td>\n",
       "      <td>...</td>\n",
       "      <td>...</td>\n",
       "      <td>...</td>\n",
       "      <td>...</td>\n",
       "      <td>...</td>\n",
       "      <td>...</td>\n",
       "      <td>...</td>\n",
       "      <td>...</td>\n",
       "      <td>...</td>\n",
       "      <td>...</td>\n",
       "      <td>...</td>\n",
       "    </tr>\n",
       "    <tr>\n",
       "      <th>4004</th>\n",
       "      <td>Bentley</td>\n",
       "      <td>Continental GT Speed</td>\n",
       "      <td>2023</td>\n",
       "      <td>714</td>\n",
       "      <td>349950</td>\n",
       "      <td>NaN</td>\n",
       "      <td>6.0</td>\n",
       "      <td>True</td>\n",
       "      <td>False</td>\n",
       "      <td>False</td>\n",
       "      <td>True</td>\n",
       "      <td>False</td>\n",
       "      <td>False</td>\n",
       "      <td>False</td>\n",
       "    </tr>\n",
       "    <tr>\n",
       "      <th>4005</th>\n",
       "      <td>Audi</td>\n",
       "      <td>S4 3.0T Premium Plus</td>\n",
       "      <td>2022</td>\n",
       "      <td>10900</td>\n",
       "      <td>53900</td>\n",
       "      <td>349.0</td>\n",
       "      <td>3.0</td>\n",
       "      <td>True</td>\n",
       "      <td>False</td>\n",
       "      <td>False</td>\n",
       "      <td>False</td>\n",
       "      <td>True</td>\n",
       "      <td>False</td>\n",
       "      <td>False</td>\n",
       "    </tr>\n",
       "    <tr>\n",
       "      <th>4006</th>\n",
       "      <td>Porsche</td>\n",
       "      <td>Taycan</td>\n",
       "      <td>2022</td>\n",
       "      <td>2116</td>\n",
       "      <td>90998</td>\n",
       "      <td>NaN</td>\n",
       "      <td>NaN</td>\n",
       "      <td>False</td>\n",
       "      <td>False</td>\n",
       "      <td>True</td>\n",
       "      <td>True</td>\n",
       "      <td>False</td>\n",
       "      <td>False</td>\n",
       "      <td>False</td>\n",
       "    </tr>\n",
       "    <tr>\n",
       "      <th>4007</th>\n",
       "      <td>Ford</td>\n",
       "      <td>F-150 Raptor</td>\n",
       "      <td>2020</td>\n",
       "      <td>33000</td>\n",
       "      <td>62999</td>\n",
       "      <td>450.0</td>\n",
       "      <td>3.5</td>\n",
       "      <td>True</td>\n",
       "      <td>False</td>\n",
       "      <td>False</td>\n",
       "      <td>True</td>\n",
       "      <td>False</td>\n",
       "      <td>False</td>\n",
       "      <td>False</td>\n",
       "    </tr>\n",
       "    <tr>\n",
       "      <th>4008</th>\n",
       "      <td>BMW</td>\n",
       "      <td>X3 xDrive30i</td>\n",
       "      <td>2020</td>\n",
       "      <td>43000</td>\n",
       "      <td>40000</td>\n",
       "      <td>248.0</td>\n",
       "      <td>2.0</td>\n",
       "      <td>True</td>\n",
       "      <td>False</td>\n",
       "      <td>False</td>\n",
       "      <td>True</td>\n",
       "      <td>False</td>\n",
       "      <td>False</td>\n",
       "      <td>True</td>\n",
       "    </tr>\n",
       "  </tbody>\n",
       "</table>\n",
       "<p>3872 rows × 14 columns</p>\n",
       "</div>"
      ],
      "text/plain": [
       "         brand                            model  model_year milage   price  \\\n",
       "0         Ford  Utility Police Interceptor Base        2013  51000   10300   \n",
       "1      Hyundai                     Palisade SEL        2021  34742   38005   \n",
       "2        Lexus                    RX 350 RX 350        2022  22372   54598   \n",
       "3     INFINITI                 Q50 Hybrid Sport        2015  88900   15500   \n",
       "4         Audi        Q3 45 S line Premium Plus        2021   9835   34999   \n",
       "...        ...                              ...         ...    ...     ...   \n",
       "4004   Bentley             Continental GT Speed        2023    714  349950   \n",
       "4005      Audi             S4 3.0T Premium Plus        2022  10900   53900   \n",
       "4006   Porsche                           Taycan        2022   2116   90998   \n",
       "4007      Ford                     F-150 Raptor        2020  33000   62999   \n",
       "4008       BMW                     X3 xDrive30i        2020  43000   40000   \n",
       "\n",
       "     horsepower liters  gas_diesel_other  hybrid  electric  \\\n",
       "0         300.0    3.7              True   False     False   \n",
       "1           NaN    3.8              True   False     False   \n",
       "2           NaN    NaN              True   False     False   \n",
       "3         354.0    3.5             False    True     False   \n",
       "4           NaN    2.0              True   False     False   \n",
       "...         ...    ...               ...     ...       ...   \n",
       "4004        NaN    6.0              True   False     False   \n",
       "4005      349.0    3.0              True   False     False   \n",
       "4006        NaN    NaN             False   False      True   \n",
       "4007      450.0    3.5              True   False     False   \n",
       "4008      248.0    2.0              True   False     False   \n",
       "\n",
       "      automatic_transmission  dual_shift_transmission  manual_transmission  \\\n",
       "0                       True                    False                False   \n",
       "1                       True                    False                False   \n",
       "2                       True                    False                False   \n",
       "3                       True                    False                False   \n",
       "4                       True                    False                False   \n",
       "...                      ...                      ...                  ...   \n",
       "4004                    True                    False                False   \n",
       "4005                   False                     True                False   \n",
       "4006                    True                    False                False   \n",
       "4007                    True                    False                False   \n",
       "4008                    True                    False                False   \n",
       "\n",
       "      accident_bool  \n",
       "0              True  \n",
       "1              True  \n",
       "2             False  \n",
       "3             False  \n",
       "4             False  \n",
       "...             ...  \n",
       "4004          False  \n",
       "4005          False  \n",
       "4006          False  \n",
       "4007          False  \n",
       "4008           True  \n",
       "\n",
       "[3872 rows x 14 columns]"
      ]
     },
     "execution_count": 619,
     "metadata": {},
     "output_type": "execute_result"
    }
   ],
   "source": [
    "# Remove non integer string values\n",
    "cars[[\"milage\", \"price\"]] = cars[[\"milage\", \"price\"]].replace(r'[^\\d]', '', regex=True)    \n",
    "\n",
    "# `engine` column\n",
    "cars[\"horsepower\"] = cars[\"engine\"].str.extract(r'([\\d.]+)HP', expand=False)\n",
    "cars[\"liters\"] = cars[\"engine\"].str.extract(r'([\\d.]+)L', expand=False)\n",
    "\n",
    "# `fuel_type` column\n",
    "cars[\"gas_diesel_other\"] = (\n",
    "    cars[\"fuel_type\"].str.contains(\"gasoline\", case=False, na=False) |\n",
    "    cars[\"fuel_type\"].str.contains(\"diesel\", case=False, na=False) |\n",
    "    cars[\"fuel_type\"].str.contains(\"fuel\", case=False, na=False)\n",
    ")\n",
    "cars[\"hybrid\"] = cars[\"fuel_type\"].str.contains(\"hybrid\", case=False, na=False)\n",
    "cars[\"electric\"] = cars[\"fuel_type\"].isna()\n",
    "print(f\"Conflicting fuel type values? {(cars[['gas_diesel_other', 'hybrid', 'electric']].sum(axis=1) > 1).any()}\")\n",
    "\n",
    "# `transmission` column\n",
    "cars[\"automatic_transmission\"] = (\n",
    "    cars[\"transmission\"].str.contains(\"A/T\", case=False) |\n",
    "    cars[\"transmission\"].str.contains(\"AT\", case=False) |\n",
    "    cars[\"transmission\"].str.contains(\"auto\", case=False) |\n",
    "    cars[\"transmission\"].str.contains(\"automatic\", case=False) |\n",
    "    cars[\"transmission\"].str.contains(\"cvt\", case=False)\n",
    ")\n",
    "cars['dual_shift_transmission'] = cars['transmission'].str.contains(\"dual\", case=False)\n",
    "cars[\"manual_transmission\"] = (\n",
    "    cars['transmission'].str.contains(\"manual\", case=False) |\n",
    "    cars['transmission'].str.contains(\"m/t\", case=False) |\n",
    "    cars['transmission'].str.contains(\"mt\", case=False)\n",
    ")\n",
    "cars.loc[cars['dual_shift_transmission'], ['automatic_transmission', 'manual_transmission']] = False\n",
    "cars.loc[cars['manual_transmission'], ['automatic_transmission', 'dual_shift_transmission']] = False\n",
    "mask = ~(cars[['automatic_transmission', 'dual_shift_transmission', 'manual_transmission']] == False).all(axis=1) # Remove rows with `False` in all three newly created transmission columns\n",
    "cars = cars[mask]\n",
    "print(f\"Conflicting transmission values? {(cars[['automatic_transmission', 'manual_transmission', \"dual_shift_transmission\"]].sum(axis=1) > 1).any()}\")\n",
    "\n",
    "# `accident` and `clean_title` columns\n",
    "cars[\"accident_bool\"] = cars[\"accident\"] != \"None reported\"\n",
    "cars.dropna(subset=['accident'], inplace=True)\n",
    "\n",
    "cars.drop([\"fuel_type\", \"engine\", \"transmission\", \"accident\", \"clean_title\", \"int_col\", \"ext_col\"], axis=1, inplace=True)\n",
    "cars"
   ]
  },
  {
   "cell_type": "markdown",
   "id": "23eebb96",
   "metadata": {},
   "source": [
    " I feel like I need to come up with some better data validation practices. That's for another time though. We'll see if I really messed up when we take a look at the MSE values."
   ]
  },
  {
   "cell_type": "markdown",
   "id": "a621c571",
   "metadata": {},
   "source": [
    "# One-Hot Encode Categorical Data\n",
    "\n",
    "I'm putting this as it's own section cause I've done one-hot encoding using `pandas`, but not `sklearn`. So let's see if I can get it done (probably gonna be pretty easy). The only categorical column I've kept is `brand`, since the color categories probably don't provide much insight, while there are too many different models in the `model` column to provide useful comparisons (at least I think). However, I think I might have to put this theory to the test.\n",
    "\n",
    "How about this? We'll add on one more requirement to this project: predict `price` using high and low dimensional data and compare the results. This is in addition to the requirement of comparing the various missing value imputation methods we are about to explore as well. We'll explore high dimensional data methods in another notebook much later."
   ]
  },
  {
   "cell_type": "code",
   "execution_count": 620,
   "id": "6289bedf",
   "metadata": {},
   "outputs": [
    {
     "data": {
      "text/plain": [
       "(3872, 69)"
      ]
     },
     "execution_count": 620,
     "metadata": {},
     "output_type": "execute_result"
    }
   ],
   "source": [
    "ohe = OneHotEncoder(handle_unknown=\"ignore\", \n",
    "                    sparse_output=False).set_output(transform=\"pandas\")\n",
    "cars = pd.concat([cars, \n",
    "                          ohe.fit_transform(cars[[\"brand\"]])], \n",
    "                          axis=1).drop(columns=[\"brand\", \"model\"])\n",
    "cars.shape"
   ]
  },
  {
   "cell_type": "markdown",
   "id": "3fb2a207",
   "metadata": {},
   "source": [
    "Alright, looks like the dimensionality of the data is still good with just `brand` encoded. Let's move on."
   ]
  },
  {
   "cell_type": "markdown",
   "id": "eea8c44a",
   "metadata": {},
   "source": [
    "# Fill in Missing Values\n",
    "\n",
    "Now that the more simple stuff is out of the way, let's start filling in those missing values. The way I see it we have two options: We can either take the mean values for the relevant column of their respective brand, or run some separate regressions to potentially get some more accurate values to fill in. Let's do both and see the results. The second option sounds a bit more interesting and potentially more useful... but I guess we'll have to see what we end up with first.\n",
    "\n",
    "**An update from Christian in the future:** It seems like it won't be that simple (as usual).\n",
    "\n",
    "## Fill Missing Values with Brand Mean\n",
    "\n",
    "Start simple: group by brand name, find the mean of `horsepower` and `liters` for the given brand, then insert the mean values into NaN cells"
   ]
  },
  {
   "cell_type": "code",
   "execution_count": 621,
   "id": "d141a2cc",
   "metadata": {},
   "outputs": [
    {
     "ename": "KeyError",
     "evalue": "'brand'",
     "output_type": "error",
     "traceback": [
      "\u001b[31m---------------------------------------------------------------------------\u001b[39m",
      "\u001b[31mKeyError\u001b[39m                                  Traceback (most recent call last)",
      "\u001b[36mCell\u001b[39m\u001b[36m \u001b[39m\u001b[32mIn[621]\u001b[39m\u001b[32m, line 3\u001b[39m\n\u001b[32m      1\u001b[39m \u001b[38;5;66;03m# Start by converting relevant columns to float64. We can experiment with float32 later\u001b[39;00m\n\u001b[32m      2\u001b[39m cars[[\u001b[33m\"\u001b[39m\u001b[33mhorsepower\u001b[39m\u001b[33m\"\u001b[39m, \u001b[33m\"\u001b[39m\u001b[33mliters\u001b[39m\u001b[33m\"\u001b[39m]] = cars[[\u001b[33m\"\u001b[39m\u001b[33mhorsepower\u001b[39m\u001b[33m\"\u001b[39m, \u001b[33m\"\u001b[39m\u001b[33mliters\u001b[39m\u001b[33m\"\u001b[39m]].astype(\u001b[33m\"\u001b[39m\u001b[33mfloat64\u001b[39m\u001b[33m\"\u001b[39m)\n\u001b[32m----> \u001b[39m\u001b[32m3\u001b[39m brand_avg_hp = \u001b[43mcars\u001b[49m\u001b[43m.\u001b[49m\u001b[43mgroupby\u001b[49m\u001b[43m(\u001b[49m\u001b[43m[\u001b[49m\u001b[33;43m\"\u001b[39;49m\u001b[33;43mbrand\u001b[39;49m\u001b[33;43m\"\u001b[39;49m\u001b[43m]\u001b[49m\u001b[43m)\u001b[49m[\u001b[33m\"\u001b[39m\u001b[33mhorsepower\u001b[39m\u001b[33m\"\u001b[39m].mean()\n\u001b[32m      4\u001b[39m brand_avg_liters = cars.groupby([\u001b[33m\"\u001b[39m\u001b[33mbrand\u001b[39m\u001b[33m\"\u001b[39m])[\u001b[33m\"\u001b[39m\u001b[33mliters\u001b[39m\u001b[33m\"\u001b[39m].mean()\n\u001b[32m      6\u001b[39m \u001b[38;5;28mprint\u001b[39m(\u001b[33mf\u001b[39m\u001b[33m\"\u001b[39m\u001b[33mAverage Horsepower:\u001b[39m\u001b[38;5;130;01m\\n\u001b[39;00m\u001b[38;5;132;01m{\u001b[39;00mbrand_avg_hp\u001b[38;5;132;01m}\u001b[39;00m\u001b[38;5;130;01m\\n\u001b[39;00m\u001b[33mAverage liters:\u001b[39m\u001b[38;5;130;01m\\n\u001b[39;00m\u001b[38;5;132;01m{\u001b[39;00mbrand_avg_liters\u001b[38;5;132;01m}\u001b[39;00m\u001b[33m\"\u001b[39m)\n",
      "\u001b[36mFile \u001b[39m\u001b[32m~/Desktop/Learning Machine Learning/lin-reg-practice/lin-reg-env/lib/python3.13/site-packages/pandas/core/frame.py:9210\u001b[39m, in \u001b[36mDataFrame.groupby\u001b[39m\u001b[34m(self, by, axis, level, as_index, sort, group_keys, observed, dropna)\u001b[39m\n\u001b[32m   9207\u001b[39m \u001b[38;5;28;01mif\u001b[39;00m level \u001b[38;5;129;01mis\u001b[39;00m \u001b[38;5;28;01mNone\u001b[39;00m \u001b[38;5;129;01mand\u001b[39;00m by \u001b[38;5;129;01mis\u001b[39;00m \u001b[38;5;28;01mNone\u001b[39;00m:\n\u001b[32m   9208\u001b[39m     \u001b[38;5;28;01mraise\u001b[39;00m \u001b[38;5;167;01mTypeError\u001b[39;00m(\u001b[33m\"\u001b[39m\u001b[33mYou have to supply one of \u001b[39m\u001b[33m'\u001b[39m\u001b[33mby\u001b[39m\u001b[33m'\u001b[39m\u001b[33m and \u001b[39m\u001b[33m'\u001b[39m\u001b[33mlevel\u001b[39m\u001b[33m'\u001b[39m\u001b[33m\"\u001b[39m)\n\u001b[32m-> \u001b[39m\u001b[32m9210\u001b[39m \u001b[38;5;28;01mreturn\u001b[39;00m \u001b[43mDataFrameGroupBy\u001b[49m\u001b[43m(\u001b[49m\n\u001b[32m   9211\u001b[39m \u001b[43m    \u001b[49m\u001b[43mobj\u001b[49m\u001b[43m=\u001b[49m\u001b[38;5;28;43mself\u001b[39;49m\u001b[43m,\u001b[49m\n\u001b[32m   9212\u001b[39m \u001b[43m    \u001b[49m\u001b[43mkeys\u001b[49m\u001b[43m=\u001b[49m\u001b[43mby\u001b[49m\u001b[43m,\u001b[49m\n\u001b[32m   9213\u001b[39m \u001b[43m    \u001b[49m\u001b[43maxis\u001b[49m\u001b[43m=\u001b[49m\u001b[43maxis\u001b[49m\u001b[43m,\u001b[49m\n\u001b[32m   9214\u001b[39m \u001b[43m    \u001b[49m\u001b[43mlevel\u001b[49m\u001b[43m=\u001b[49m\u001b[43mlevel\u001b[49m\u001b[43m,\u001b[49m\n\u001b[32m   9215\u001b[39m \u001b[43m    \u001b[49m\u001b[43mas_index\u001b[49m\u001b[43m=\u001b[49m\u001b[43mas_index\u001b[49m\u001b[43m,\u001b[49m\n\u001b[32m   9216\u001b[39m \u001b[43m    \u001b[49m\u001b[43msort\u001b[49m\u001b[43m=\u001b[49m\u001b[43msort\u001b[49m\u001b[43m,\u001b[49m\n\u001b[32m   9217\u001b[39m \u001b[43m    \u001b[49m\u001b[43mgroup_keys\u001b[49m\u001b[43m=\u001b[49m\u001b[43mgroup_keys\u001b[49m\u001b[43m,\u001b[49m\n\u001b[32m   9218\u001b[39m \u001b[43m    \u001b[49m\u001b[43mobserved\u001b[49m\u001b[43m=\u001b[49m\u001b[43mobserved\u001b[49m\u001b[43m,\u001b[49m\n\u001b[32m   9219\u001b[39m \u001b[43m    \u001b[49m\u001b[43mdropna\u001b[49m\u001b[43m=\u001b[49m\u001b[43mdropna\u001b[49m\u001b[43m,\u001b[49m\n\u001b[32m   9220\u001b[39m \u001b[43m\u001b[49m\u001b[43m)\u001b[49m\n",
      "\u001b[36mFile \u001b[39m\u001b[32m~/Desktop/Learning Machine Learning/lin-reg-practice/lin-reg-env/lib/python3.13/site-packages/pandas/core/groupby/groupby.py:1331\u001b[39m, in \u001b[36mGroupBy.__init__\u001b[39m\u001b[34m(self, obj, keys, axis, level, grouper, exclusions, selection, as_index, sort, group_keys, observed, dropna)\u001b[39m\n\u001b[32m   1328\u001b[39m \u001b[38;5;28mself\u001b[39m.dropna = dropna\n\u001b[32m   1330\u001b[39m \u001b[38;5;28;01mif\u001b[39;00m grouper \u001b[38;5;129;01mis\u001b[39;00m \u001b[38;5;28;01mNone\u001b[39;00m:\n\u001b[32m-> \u001b[39m\u001b[32m1331\u001b[39m     grouper, exclusions, obj = \u001b[43mget_grouper\u001b[49m\u001b[43m(\u001b[49m\n\u001b[32m   1332\u001b[39m \u001b[43m        \u001b[49m\u001b[43mobj\u001b[49m\u001b[43m,\u001b[49m\n\u001b[32m   1333\u001b[39m \u001b[43m        \u001b[49m\u001b[43mkeys\u001b[49m\u001b[43m,\u001b[49m\n\u001b[32m   1334\u001b[39m \u001b[43m        \u001b[49m\u001b[43maxis\u001b[49m\u001b[43m=\u001b[49m\u001b[43maxis\u001b[49m\u001b[43m,\u001b[49m\n\u001b[32m   1335\u001b[39m \u001b[43m        \u001b[49m\u001b[43mlevel\u001b[49m\u001b[43m=\u001b[49m\u001b[43mlevel\u001b[49m\u001b[43m,\u001b[49m\n\u001b[32m   1336\u001b[39m \u001b[43m        \u001b[49m\u001b[43msort\u001b[49m\u001b[43m=\u001b[49m\u001b[43msort\u001b[49m\u001b[43m,\u001b[49m\n\u001b[32m   1337\u001b[39m \u001b[43m        \u001b[49m\u001b[43mobserved\u001b[49m\u001b[43m=\u001b[49m\u001b[38;5;28;43;01mFalse\u001b[39;49;00m\u001b[43m \u001b[49m\u001b[38;5;28;43;01mif\u001b[39;49;00m\u001b[43m \u001b[49m\u001b[43mobserved\u001b[49m\u001b[43m \u001b[49m\u001b[38;5;129;43;01mis\u001b[39;49;00m\u001b[43m \u001b[49m\u001b[43mlib\u001b[49m\u001b[43m.\u001b[49m\u001b[43mno_default\u001b[49m\u001b[43m \u001b[49m\u001b[38;5;28;43;01melse\u001b[39;49;00m\u001b[43m \u001b[49m\u001b[43mobserved\u001b[49m\u001b[43m,\u001b[49m\n\u001b[32m   1338\u001b[39m \u001b[43m        \u001b[49m\u001b[43mdropna\u001b[49m\u001b[43m=\u001b[49m\u001b[38;5;28;43mself\u001b[39;49m\u001b[43m.\u001b[49m\u001b[43mdropna\u001b[49m\u001b[43m,\u001b[49m\n\u001b[32m   1339\u001b[39m \u001b[43m    \u001b[49m\u001b[43m)\u001b[49m\n\u001b[32m   1341\u001b[39m \u001b[38;5;28;01mif\u001b[39;00m observed \u001b[38;5;129;01mis\u001b[39;00m lib.no_default:\n\u001b[32m   1342\u001b[39m     \u001b[38;5;28;01mif\u001b[39;00m \u001b[38;5;28many\u001b[39m(ping._passed_categorical \u001b[38;5;28;01mfor\u001b[39;00m ping \u001b[38;5;129;01min\u001b[39;00m grouper.groupings):\n",
      "\u001b[36mFile \u001b[39m\u001b[32m~/Desktop/Learning Machine Learning/lin-reg-practice/lin-reg-env/lib/python3.13/site-packages/pandas/core/groupby/grouper.py:1043\u001b[39m, in \u001b[36mget_grouper\u001b[39m\u001b[34m(obj, key, axis, level, sort, observed, validate, dropna)\u001b[39m\n\u001b[32m   1041\u001b[39m         in_axis, level, gpr = \u001b[38;5;28;01mFalse\u001b[39;00m, gpr, \u001b[38;5;28;01mNone\u001b[39;00m\n\u001b[32m   1042\u001b[39m     \u001b[38;5;28;01melse\u001b[39;00m:\n\u001b[32m-> \u001b[39m\u001b[32m1043\u001b[39m         \u001b[38;5;28;01mraise\u001b[39;00m \u001b[38;5;167;01mKeyError\u001b[39;00m(gpr)\n\u001b[32m   1044\u001b[39m \u001b[38;5;28;01melif\u001b[39;00m \u001b[38;5;28misinstance\u001b[39m(gpr, Grouper) \u001b[38;5;129;01mand\u001b[39;00m gpr.key \u001b[38;5;129;01mis\u001b[39;00m \u001b[38;5;129;01mnot\u001b[39;00m \u001b[38;5;28;01mNone\u001b[39;00m:\n\u001b[32m   1045\u001b[39m     \u001b[38;5;66;03m# Add key to exclusions\u001b[39;00m\n\u001b[32m   1046\u001b[39m     exclusions.add(gpr.key)\n",
      "\u001b[31mKeyError\u001b[39m: 'brand'"
     ]
    }
   ],
   "source": [
    "# Start by converting relevant columns to float64. We can experiment with float32 later\n",
    "cars[[\"horsepower\", \"liters\"]] = cars[[\"horsepower\", \"liters\"]].astype(\"float64\")\n",
    "brand_avg_hp = cars.groupby([\"brand\"])[\"horsepower\"].mean()\n",
    "brand_avg_liters = cars.groupby([\"brand\"])[\"liters\"].mean()\n",
    "\n",
    "print(f\"Average Horsepower:\\n{brand_avg_hp}\\nAverage liters:\\n{brand_avg_liters}\")"
   ]
  },
  {
   "cell_type": "markdown",
   "id": "dc19844a",
   "metadata": {},
   "source": [
    "Aha well would you look at that. I forgot to consider that the horsepower might be missing for entire car brands! Therefore, we can't really estimate using the mean of a given brand. Well... we could do an overall average, but that'd be a pretty garbage way to approach the problem.\n",
    "\n",
    "I also noticed while looking at the results that Bugatti is a car brand in this dataset. While I'm normally an avid hater of removing outliers, this car is way too rare and expensive to be included in this dataset. The other high end brands might be somewhat outliers as well, but not nearly to the extent of a Bugatti.\n",
    "\n",
    "Let's outline how many cars from each brand can be found in the data then decide where to go from there. Whatever the results though, we definitely need to take Bugatti out of the data."
   ]
  },
  {
   "cell_type": "code",
   "execution_count": null,
   "id": "64bd77a0",
   "metadata": {},
   "outputs": [
    {
     "data": {
      "application/vnd.microsoft.datawrangler.viewer.v0+json": {
       "columns": [
        {
         "name": "brand",
         "rawType": "object",
         "type": "string"
        },
        {
         "name": "count",
         "rawType": "int64",
         "type": "integer"
        }
       ],
       "ref": "781c4df5-a3a4-4829-9100-78009dc94a8e",
       "rows": [
        [
         "Suzuki",
         "1"
        ],
        [
         "Polestar",
         "1"
        ],
        [
         "Bugatti",
         "1"
        ],
        [
         "Maybach",
         "1"
        ],
        [
         "smart",
         "1"
        ],
        [
         "Plymouth",
         "1"
        ],
        [
         "Mercury",
         "2"
        ],
        [
         "Saab",
         "2"
        ],
        [
         "Karma",
         "2"
        ],
        [
         "Lucid",
         "2"
        ],
        [
         "Lotus",
         "3"
        ],
        [
         "FIAT",
         "5"
        ],
        [
         "Saturn",
         "5"
        ],
        [
         "McLaren",
         "6"
        ],
        [
         "Scion",
         "6"
        ],
        [
         "Aston",
         "8"
        ],
        [
         "Rolls-Royce",
         "9"
        ],
        [
         "Ferrari",
         "12"
        ],
        [
         "Pontiac",
         "15"
        ],
        [
         "Rivian",
         "15"
        ],
        [
         "Alfa",
         "16"
        ],
        [
         "Hummer",
         "16"
        ],
        [
         "Genesis",
         "19"
        ],
        [
         "Mitsubishi",
         "20"
        ],
        [
         "Lamborghini",
         "25"
        ],
        [
         "Chrysler",
         "27"
        ],
        [
         "Buick",
         "30"
        ],
        [
         "Bentley",
         "31"
        ],
        [
         "MINI",
         "32"
        ],
        [
         "Maserati",
         "33"
        ],
        [
         "Volvo",
         "37"
        ],
        [
         "Jaguar",
         "46"
        ],
        [
         "Lincoln",
         "50"
        ],
        [
         "INFINITI",
         "55"
        ],
        [
         "Acura",
         "57"
        ],
        [
         "Volkswagen",
         "59"
        ],
        [
         "Honda",
         "60"
        ],
        [
         "Subaru",
         "62"
        ],
        [
         "Mazda",
         "62"
        ],
        [
         "Hyundai",
         "68"
        ],
        [
         "Kia",
         "75"
        ],
        [
         "Tesla",
         "87"
        ],
        [
         "GMC",
         "87"
        ],
        [
         "Dodge",
         "89"
        ],
        [
         "RAM",
         "90"
        ],
        [
         "Cadillac",
         "104"
        ],
        [
         "Nissan",
         "113"
        ],
        [
         "Land",
         "126"
        ],
        [
         "Jeep",
         "138"
        ],
        [
         "Lexus",
         "160"
        ]
       ],
       "shape": {
        "columns": 1,
        "rows": 57
       }
      },
      "text/plain": [
       "brand\n",
       "Suzuki             1\n",
       "Polestar           1\n",
       "Bugatti            1\n",
       "Maybach            1\n",
       "smart              1\n",
       "Plymouth           1\n",
       "Mercury            2\n",
       "Saab               2\n",
       "Karma              2\n",
       "Lucid              2\n",
       "Lotus              3\n",
       "FIAT               5\n",
       "Saturn             5\n",
       "McLaren            6\n",
       "Scion              6\n",
       "Aston              8\n",
       "Rolls-Royce        9\n",
       "Ferrari           12\n",
       "Pontiac           15\n",
       "Rivian            15\n",
       "Alfa              16\n",
       "Hummer            16\n",
       "Genesis           19\n",
       "Mitsubishi        20\n",
       "Lamborghini       25\n",
       "Chrysler          27\n",
       "Buick             30\n",
       "Bentley           31\n",
       "MINI              32\n",
       "Maserati          33\n",
       "Volvo             37\n",
       "Jaguar            46\n",
       "Lincoln           50\n",
       "INFINITI          55\n",
       "Acura             57\n",
       "Volkswagen        59\n",
       "Honda             60\n",
       "Subaru            62\n",
       "Mazda             62\n",
       "Hyundai           68\n",
       "Kia               75\n",
       "Tesla             87\n",
       "GMC               87\n",
       "Dodge             89\n",
       "RAM               90\n",
       "Cadillac         104\n",
       "Nissan           113\n",
       "Land             126\n",
       "Jeep             138\n",
       "Lexus            160\n",
       "Porsche          183\n",
       "Audi             194\n",
       "Toyota           195\n",
       "Chevrolet        281\n",
       "Mercedes-Benz    310\n",
       "BMW              366\n",
       "Ford             371\n",
       "Name: count, dtype: int64"
      ]
     },
     "execution_count": 609,
     "metadata": {},
     "output_type": "execute_result"
    }
   ],
   "source": [
    "cars[\"brand\"].value_counts().sort_values()"
   ]
  },
  {
   "cell_type": "markdown",
   "id": "717cb1dc",
   "metadata": {},
   "source": [
    "Mmmmmm interesting. Thankfully, I'm a bit of a car guy and can identify which of these brands aren't common enough to be needed in the data. However, I think the electric cars can be made as an exception for this, as we need as much electric car data as possible to account for the price difference in electric vs. gas.\n",
    "\n",
    "I think we can get rid of `Bugatti` and `smart` (maybe a bit of a personal bias towards my hatred of the `smart` brand here, but all-in-all an uncommon brand with outliers in many categories)."
   ]
  },
  {
   "cell_type": "code",
   "execution_count": null,
   "id": "5506437a",
   "metadata": {},
   "outputs": [],
   "source": [
    "cars = cars[~cars[\"brand\"].isin([\"Bugatti\", \"smart\"])]"
   ]
  },
  {
   "cell_type": "markdown",
   "id": "14b5c2f2",
   "metadata": {},
   "source": [
    "## Missing Value Imputation\n",
    "\n",
    "Now let's get a bit more advanced. I'm in uncharted territory with this kind of stuff, but I have a feeling it might not be too challenging. Just gonna take a lot of background studying. Let's go over some of the options we have.\n",
    "\n",
    "Here's a [general overview](https://scikit-learn.org/stable/modules/impute.html) for Sklearn native missing value imputation. We'll do a deep dive into each Sklearn option in the `sklearn_missing_val_imputation_methods.ipynb` notebook. After that, we'll do the same with [LightGBM](https://lightgbm.readthedocs.io/en/stable/) in a separate notebook, then I can finally create my own attempt using personally selected features for a custom linear regression model. Each imputation method will be assigned to its own data frame.\n",
    "\n",
    "Before any of that, let's do a quick double check to see if any additional columns have `NaN` values:"
   ]
  },
  {
   "cell_type": "code",
   "execution_count": null,
   "id": "c27eaa24",
   "metadata": {},
   "outputs": [
    {
     "data": {
      "application/vnd.microsoft.datawrangler.viewer.v0+json": {
       "columns": [
        {
         "name": "index",
         "rawType": "object",
         "type": "string"
        },
        {
         "name": "0",
         "rawType": "int64",
         "type": "integer"
        }
       ],
       "ref": "78623d92-405f-493e-a5e8-527b9cec35b8",
       "rows": [
        [
         "horsepower",
         "760"
        ],
        [
         "liters",
         "360"
        ]
       ],
       "shape": {
        "columns": 1,
        "rows": 2
       }
      },
      "text/plain": [
       "horsepower    760\n",
       "liters        360\n",
       "dtype: int64"
      ]
     },
     "execution_count": 611,
     "metadata": {},
     "output_type": "execute_result"
    }
   ],
   "source": [
    "cols_with_nans = [x for x in cars if cars[x].isnull().sum() > 0]\n",
    "cars[cols_with_nans].isnull().sum()"
   ]
  },
  {
   "cell_type": "markdown",
   "id": "5bce584a",
   "metadata": {},
   "source": [
    "Whew... looks like we got quite a few! Already saw this in Data Wrangler but man do we gotta fill these in. Let's begin with the simple Sklearn methods involving mean, median, and mode. I have some serious issues with these approaches, as they are terrible options in my opinion, but hey we're here to learn.\n",
    "\n",
    "Beyond the methods I'm about to explore, I can also think of a few other ways we could fill in this data even more reliably, but we're here for practice, not the pursuit of the perfect model. That is for another time. Just leaving this note to keep that train of thought in mind. Anyway, let's do the simple stuff now.\n",
    "\n",
    "Here's a list that will hold the results of each method:"
   ]
  },
  {
   "cell_type": "code",
   "execution_count": null,
   "id": "5cd1de62",
   "metadata": {},
   "outputs": [],
   "source": [
    "imp_datasets = {\"mean\": None,\n",
    "                \"median\": None,\n",
    "                \"most_frequent\": None}"
   ]
  },
  {
   "cell_type": "markdown",
   "id": "d2cfd2f6",
   "metadata": {},
   "source": [
    "## Mean, Median, and Most Frequent Value Imputation\n",
    "\n",
    "Much to my absolute disgust and destain, I think it's important to compare the performance of these more basic missing value imputations to the more advanced methods. This will act as a sort of bonus for familiarizing myself with `scikit`'s syntax and various options.\n",
    "\n",
    "Let's get to it."
   ]
  },
  {
   "cell_type": "code",
   "execution_count": null,
   "id": "6c0268f3",
   "metadata": {},
   "outputs": [],
   "source": [
    "imp_target_cols = ['horsepower', 'liters']\n",
    "\n",
    "imp_mean = SimpleImputer(strategy='mean')\n",
    "cars_mean = cars.copy()\n",
    "cars_mean[imp_target_cols] = imp_mean.fit_transform(cars[imp_target_cols])\n",
    "\n",
    "imp_median = SimpleImputer(strategy='median')\n",
    "cars_median = cars.copy()\n",
    "cars_median[imp_target_cols] = imp_median.fit_transform(cars[imp_target_cols])\n",
    "\n",
    "imp_most_freq = SimpleImputer(strategy='most_frequent')\n",
    "cars_freq = cars.copy()\n",
    "cars_freq[imp_target_cols] = imp_most_freq.fit_transform(cars[imp_target_cols])\n",
    "\n",
    "imp_datasets[\"mean\"] = cars_mean\n",
    "imp_datasets[\"median\"] = cars_median\n",
    "imp_datasets[\"most_frequent\"] = cars_freq"
   ]
  },
  {
   "cell_type": "markdown",
   "id": "be3e7a47",
   "metadata": {},
   "source": [
    "Well I honestly made that a bit harder than it should've. Was trying to get a bit too fancy with saving the new data frames and instead opted for the more straightforward solution. Let's move onto the `scikit` multivariate options for missing value imputation now."
   ]
  },
  {
   "cell_type": "markdown",
   "id": "84f0b96a",
   "metadata": {},
   "source": [
    "## Multivariate Missing Value Imputation\n",
    "\n",
    "Let's see how tricky this'll be."
   ]
  },
  {
   "cell_type": "code",
   "execution_count": null,
   "id": "2c3952c9",
   "metadata": {},
   "outputs": [],
   "source": []
  }
 ],
 "metadata": {
  "kernelspec": {
   "display_name": "lin-reg-env",
   "language": "python",
   "name": "python3"
  },
  "language_info": {
   "codemirror_mode": {
    "name": "ipython",
    "version": 3
   },
   "file_extension": ".py",
   "mimetype": "text/x-python",
   "name": "python",
   "nbconvert_exporter": "python",
   "pygments_lexer": "ipython3",
   "version": "3.13.5"
  }
 },
 "nbformat": 4,
 "nbformat_minor": 5
}
