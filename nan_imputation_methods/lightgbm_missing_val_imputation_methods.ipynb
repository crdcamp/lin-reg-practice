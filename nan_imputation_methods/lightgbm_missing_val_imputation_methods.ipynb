{
 "cells": [
  {
   "cell_type": "markdown",
   "id": "b902b4cf",
   "metadata": {},
   "source": [
    "# LightGBM Imputation Methods\n",
    "\n",
    "[Resource](https://lightgbm.readthedocs.io/en/stable/Python-Intro.html)\n",
    "\n",
    "A bit about LightGBM:\n",
    "\n",
    "LightGBM, short for **Light Gradient-Boosting Machine**, is developed by Microsoft and based on **decision tree** algorithms and used for ranking, classification, and other machine learning tasks. The development focus is on performance and scalability.\n",
    "\n",
    "Typically, in gradient descent, one uses th whole set of data to calculate the valley's slopes. However, this commonly used method assumes that every data point is equally informative.\n",
    "\n",
    "By contrast, Gradient-Based One-Side Samping (GOSS), doesn't rely on that assumption. Instead, it treats data points with smaller gradients (shallower slopes) as less informative by randomly dropping them. This is intended to filter out data which may have been influenced by noise, allowing the model to more accurately model the underlying relationships in the data."
   ]
  },
  {
   "cell_type": "code",
   "execution_count": 52,
   "id": "e64b712e",
   "metadata": {},
   "outputs": [],
   "source": [
    "import lightgbm as lgb\n",
    "import numpy as np\n",
    "import pandas as pd"
   ]
  },
  {
   "cell_type": "markdown",
   "id": "2d1d4fd1",
   "metadata": {},
   "source": [
    "# Introduction\n",
    "\n",
    "## Data Interface\n",
    "\n",
    "The LightGBM Python module can load data from:\n",
    "* LibSVM (zero-based) / TSV / CSV format text file\n",
    "* NumPy 2D array(s), pandas DataFrame, SciPy sparse matrix\n",
    "* LightGBM binary file\n",
    "* LightGBM `Sequence` object(s)\n",
    "\n",
    "The data is stored in a `Dataset` object.\n",
    "\n",
    "## Load a numpy array into Dataset:"
   ]
  },
  {
   "cell_type": "code",
   "execution_count": 53,
   "id": "654243e8",
   "metadata": {},
   "outputs": [],
   "source": [
    "rng = np.random.default_rng()\n",
    "data = rng.uniform(size=(500, 10)) # 500 entities, each contains 10 features\n",
    "label = rng.integers(low=0, high=2, size=(500, )) # Binary target\n",
    "train_data = lgb.Dataset(data, label=label)"
   ]
  },
  {
   "cell_type": "markdown",
   "id": "54df216b",
   "metadata": {},
   "source": [
    "## Load from Sequence Objects\n",
    "\n",
    "We can implement `Sequence` interface to read binary files. The following example shows reading HD5 file with `h5py`."
   ]
  },
  {
   "cell_type": "code",
   "execution_count": 54,
   "id": "a73ce5cd",
   "metadata": {},
   "outputs": [],
   "source": [
    "import h5py\n",
    "\n",
    "class HDFSequence(lgb.Sequence):\n",
    "    def __init__(self, hdf_dataset, batch_size):\n",
    "        self.data = hdf_dataset\n",
    "        self.batch_size = batch_size\n",
    "    \n",
    "    def __getitem__(self, idx):\n",
    "        return self.data[idx]\n",
    "    \n",
    "    def __len__(self):\n",
    "        return len(self.data)\n",
    "    \n",
    "#f = h5py.File('train.hdf5', 'r')\n",
    "#train_data = lgb.Dataset(HDFSequence(f['X'], 8192), label=f['Y'][:])"
   ]
  },
  {
   "cell_type": "markdown",
   "id": "ba733e18",
   "metadata": {},
   "source": [
    "Features of using `Sequence` interface:\n",
    "* Data sampling uses random access, thus doesn't go through the whole dataset\n",
    "* Reading data in batch, thus saves memory when constructing `Dataset` object\n",
    "* Supports creating `Dataset` from multiple data files"
   ]
  },
  {
   "cell_type": "markdown",
   "id": "6b54035e",
   "metadata": {},
   "source": [
    "## Saving Dataset into a LightGBM Binary File\n",
    "\n",
    "**Will make loading faster.**\n",
    "\n",
    "`train_data = lgb.Dataset(\"train.svm.txt\")\n",
    "train_data.save_binary(\"train.bin\")`"
   ]
  },
  {
   "cell_type": "markdown",
   "id": "47470f99",
   "metadata": {},
   "source": [
    "## Create Validation Data\n",
    "\n",
    "`validation_data = train_data.create_valid(\"validation.svm\")`\n",
    "\n",
    "or\n",
    "\n",
    "`validation_data = lgb.Dataset(\"validation.svm, reference=train_data)`\n",
    "\n",
    "In LightGBM, the validation data should be aligned with training data."
   ]
  },
  {
   "cell_type": "markdown",
   "id": "62d816ed",
   "metadata": {},
   "source": [
    "## Specific Feature Names and Categorical Features"
   ]
  },
  {
   "cell_type": "code",
   "execution_count": 55,
   "id": "d31092d5",
   "metadata": {},
   "outputs": [],
   "source": [
    "train_data = lgb.Dataset(data, label=label, feature_name=[\"c1\", \"c2\", \"c3'\"], categorical_feature=[\"c3\"])"
   ]
  },
  {
   "cell_type": "markdown",
   "id": "e47544bf",
   "metadata": {},
   "source": [
    "**LightGBM can use categorical features as input directly. It doesn't need to convert to one-hot encoding, and is much faster than one-hot encoding**.\n",
    "\n",
    "**Note:** You should convert your categorical features to `int` type before you construct `Dataset`.\n",
    "\n",
    "(Incredible - This is why we read the docs too.)"
   ]
  },
  {
   "cell_type": "markdown",
   "id": "6ab1beca",
   "metadata": {},
   "source": [
    "## Weights can be set when needed"
   ]
  },
  {
   "cell_type": "code",
   "execution_count": 56,
   "id": "fb31072f",
   "metadata": {},
   "outputs": [],
   "source": [
    "rng = np.random.default_rng()\n",
    "w = rng.uniform(size=(500, ))\n",
    "train_data = lgb.Dataset(data, label=label, weight=w)"
   ]
  },
  {
   "cell_type": "markdown",
   "id": "c7168ff9",
   "metadata": {},
   "source": [
    "or"
   ]
  },
  {
   "cell_type": "code",
   "execution_count": 57,
   "id": "ec2c4af6",
   "metadata": {},
   "outputs": [
    {
     "data": {
      "text/plain": [
       "<lightgbm.basic.Dataset at 0x11b4a70b0>"
      ]
     },
     "execution_count": 57,
     "metadata": {},
     "output_type": "execute_result"
    }
   ],
   "source": [
    "train_data = lgb.Dataset(data, label=label)\n",
    "rng = np.random.default_rng()\n",
    "w = rng.uniform(size=(500, ))\n",
    "train_data.set_weight(w)"
   ]
  },
  {
   "cell_type": "markdown",
   "id": "c07df07b",
   "metadata": {},
   "source": [
    "And you can use `Dataset.set_init_score()` to set initial score, and `Dataset.set_group()` to set group/query data for ranking tasks."
   ]
  },
  {
   "cell_type": "markdown",
   "id": "fffaebaa",
   "metadata": {},
   "source": [
    "## Memory Efficient Usage\n",
    "\n",
    "The `Dataset` object in LightGBM is very memory-efficient, it only needs to save discrete bins. However, **NumPy/Array/Pandas object is memory expensive**. If you are concerned about memory consumption, you can save memory by:\n",
    "1. Set `free_raw_data=True` (default is `True`) when constructing the `Dataset`\n",
    "1. Explicitly set `raw_data=None` after the `Dataset` has been constructed\n",
    "1. Call `gc`"
   ]
  },
  {
   "cell_type": "markdown",
   "id": "ff1afd61",
   "metadata": {},
   "source": [
    "## Setting Parameters\n",
    "\n",
    "LightGBM can use a dictionary to set Parameters. For instance:\n",
    "* Booster parameters:"
   ]
  },
  {
   "cell_type": "code",
   "execution_count": 58,
   "id": "e93361e7",
   "metadata": {},
   "outputs": [],
   "source": [
    "param = {\"num_leaves\": 31, \"objective\": \"binary\"}\n",
    "param[\"metric\"] = \"auc\""
   ]
  },
  {
   "cell_type": "markdown",
   "id": "471dfd12",
   "metadata": {},
   "source": [
    "* You can also specify multiple eval metrics:"
   ]
  },
  {
   "cell_type": "code",
   "execution_count": 59,
   "id": "0ee10f31",
   "metadata": {},
   "outputs": [],
   "source": [
    "param[\"metric\"] = [\"auc\", \"binary_logloss\"]"
   ]
  },
  {
   "cell_type": "markdown",
   "id": "0f364f9a",
   "metadata": {},
   "source": [
    "## Training\n",
    "\n",
    "Training a model requires a parameter list and data set:\n",
    "\n",
    "`num_round = 10\n",
    "bst = lgb.train(param, train_data, num_round, valid_sets=[validation_data])`\n",
    "\n",
    "After training, the model can be saved:\n",
    "\n",
    "`bst.save_model('model.txt')`\n",
    "\n",
    "The trained model can also be dumped to JSON format:\n",
    "\n",
    "`json_model = bst.dump_model()`\n",
    "\n",
    "A saved model can be loaded:\n",
    "\n",
    "`bst = lgb.Booster(model_file='model.txt') # innit model`\n",
    "\n",
    "## CV \n",
    "\n",
    "Training with 5-fold CV:\n",
    "\n",
    "`lgb.cv(param, train_data, num_round, nfold=56)`\n",
    "\n",
    "## Early Stopping\n",
    "\n",
    "If you have a validation set, you can use early stopping to find the optimal number of boosting rounds. Early stopping requires at least one set in `valid_sets`. If there is more than one, it will use all of them except the training data:\n",
    "\n",
    "`bst = lgb.train(param, train_data, num_round, valid_sets=valid_sets, callbacks=[lgb.early_stopping(stopping_rounds=5)])\n",
    "bst.save_model('model.txt', num_iteration=bst.best_iteration)`\n",
    "\n",
    "The model will train until the validation score stops improving. Validation score needs to improve at least every `stopping_rounds` to continue training.\n",
    "\n",
    "The index of iteration that has the best performance will be saved in the `best_iteration` field if early stopping logic is enables by setting `early_stopping` callback. Note that `train()` will return a model from the best iteration.\n",
    "\n",
    "This works with both metrics to minimize (L2, log loss, etc.) and to maximize (NDCG, AUC, etc.). Note that if you specify more than one evaluation metric, all of them will be used for early stopping. However, you can change this behavior and make LightGBM check only the first metric for early stopping by passing `first_metric_only=True` in `early_stopping` callback constructor.\n",
    "\n",
    "Very nice.\n",
    "\n",
    "## Prediction\n",
    "\n",
    "A model that has been trained or loaded can perform predictions on datasets:\n",
    "\n",
    "`# 7 entities, each contains 10 features\n",
    "rng = np.random.default_rng()\n",
    "data = rng.uniform(size=(7, 10))\n",
    "ypred = bst.predict(data)`\n",
    "\n",
    "If early stopping is enabled during training, you can get predictions from the best iteration with `bst.best_iteration`:\n",
    "\n",
    "`ypred = bst.predict(data, num_iteration=bst.best_iteration)`\n",
    "\n",
    "This library seems pretty nuts. DULY noted for later learning."
   ]
  }
 ],
 "metadata": {
  "kernelspec": {
   "display_name": "lin-reg-env",
   "language": "python",
   "name": "python3"
  },
  "language_info": {
   "codemirror_mode": {
    "name": "ipython",
    "version": 3
   },
   "file_extension": ".py",
   "mimetype": "text/x-python",
   "name": "python",
   "nbconvert_exporter": "python",
   "pygments_lexer": "ipython3",
   "version": "3.13.5"
  }
 },
 "nbformat": 4,
 "nbformat_minor": 5
}
