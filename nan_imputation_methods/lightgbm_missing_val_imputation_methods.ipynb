{
 "cells": [
  {
   "cell_type": "markdown",
   "id": "b902b4cf",
   "metadata": {},
   "source": [
    "# LightGBM Imputation Methods\n",
    "\n",
    "A bit ab9out LightGBM:\n",
    "\n",
    "LightGBM, short for **Light Gradient-Boosting Machine**, is developed by Microsoft and based on **decision tree** algorithms and used for ranking, classification, and other machine learning tasks. The development focus is on performance and scalability.\n",
    "\n",
    "Typically, in gradient descent, one uses th whole set of data to calculate the valley's slopes. However, this commonly used method assumes that every data point is equally informative.\n",
    "\n",
    "By contrast, Gradient-Based One-Side Samping (GOSS), doesn't rely on that assumption. Instead, it treats data points with smaller gradients (shallower slopes) as less informative by randomly dropping them. This is intended to filter out data which may have been influenced by noise, allowing the model to more accurately model the underlying relationships in the data."
   ]
  },
  {
   "cell_type": "code",
   "execution_count": 2,
   "id": "e64b712e",
   "metadata": {},
   "outputs": [],
   "source": [
    "import lightgbm as lgb\n",
    "import numpy as np"
   ]
  }
 ],
 "metadata": {
  "kernelspec": {
   "display_name": "lin-reg-env",
   "language": "python",
   "name": "python3"
  },
  "language_info": {
   "codemirror_mode": {
    "name": "ipython",
    "version": 3
   },
   "file_extension": ".py",
   "mimetype": "text/x-python",
   "name": "python",
   "nbconvert_exporter": "python",
   "pygments_lexer": "ipython3",
   "version": "3.13.5"
  }
 },
 "nbformat": 4,
 "nbformat_minor": 5
}
