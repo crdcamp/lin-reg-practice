{
 "cells": [
  {
   "cell_type": "markdown",
   "id": "0cf00424",
   "metadata": {},
   "source": [
    "# Kaggle Review\n",
    "\n",
    "Despite the context of this project not being focused on strong results, the horrendous MSE and R^2 values I ended with are incredibly bothersome to me. I'm currently under the assumption that the data has an extreme price difference between the luxury and more affordable vehicles. Whether this is something that could be addressed through some sort of classification is currently beyond me. Moreover, I need to work on more ways to interpret and graph the data.\n",
    "\n",
    "That being said, I think this is a perfect opportunity to compare the top submissions for this data and expand my ML toolkit. They seem to expand upon the data a bit, so my takeaways will be largely conceptual. Let's see if I can translate some of these submissions to my own use case."
   ]
  },
  {
   "cell_type": "markdown",
   "id": "c7784322",
   "metadata": {
    "vscode": {
     "languageId": "plaintext"
    }
   },
   "source": [
    "# First Example\n",
    "\n",
    "The first comparison example can be found [here](https://www.kaggle.com/code/satyaprakashshukl/used-car-price-prediction). Let's take a look at what they did.\n",
    "\n"
   ]
  }
 ],
 "metadata": {
  "language_info": {
   "name": "python"
  }
 },
 "nbformat": 4,
 "nbformat_minor": 5
}
