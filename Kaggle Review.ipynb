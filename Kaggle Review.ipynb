{
 "cells": [
  {
   "cell_type": "markdown",
   "id": "0cf00424",
   "metadata": {},
   "source": [
    "# Kaggle Review\n",
    "\n",
    "Despite the context of this project not being focused on strong results, the horrendous MSE and R^2 values I ended with are incredibly bothersome to me. I'm currently under the assumption that the data has an extreme price difference between the luxury and more affordable vehicles. Whether this is something that could be addressed through some sort of classification is currently beyond me. Moreover, I need to work on more ways to interpret and graph the data.\n",
    "\n",
    "That being said, I think this is a perfect opportunity to compare the top submissions for this data and expand my ML toolkit. They seem to expand upon the data a bit, so my takeaways will be largely conceptual. Let's see if I can translate some of these submissions to my own use case."
   ]
  },
  {
   "cell_type": "markdown",
   "id": "c7784322",
   "metadata": {
    "vscode": {
     "languageId": "plaintext"
    }
   },
   "source": [
    "# First Example\n",
    "\n",
    "The first comparison example can be found [here](https://www.kaggle.com/code/satyaprakashshukl/used-car-price-prediction). Let's take a look at what they did.\n",
    "\n",
    "Interestingly, they have `lightgbm` in their imports. While I attempted to use this library for missing value imputation, I also considered learning how to use it for the price predictions as well. Given that it was an entire learning rabbit hole to go down, I decided to abandon it. Nice to see I had the right idea though.\n",
    "\n",
    "Here's all the imports this guy used:"
   ]
  },
  {
   "cell_type": "code",
   "execution_count": 2,
   "id": "5614ae39",
   "metadata": {},
   "outputs": [],
   "source": [
    "import numpy as np\n",
    "import pandas as pd\n",
    "import matplotlib.pyplot as plt\n",
    "from sklearn.model_selection import train_test_split\n",
    "from sklearn.metrics import mean_squared_error\n",
    "import seaborn as sns\n",
    "from xgboost import XGBRegressor\n",
    "from lightgbm import LGBMRegressor\n",
    "from sklearn.metrics import mean_squared_error\n",
    "from sklearn.model_selection import KFold\n",
    "import gc"
   ]
  },
  {
   "cell_type": "code",
   "execution_count": null,
   "id": "b3da67f9",
   "metadata": {},
   "outputs": [],
   "source": []
  }
 ],
 "metadata": {
  "kernelspec": {
   "display_name": "lin-reg-env",
   "language": "python",
   "name": "python3"
  },
  "language_info": {
   "codemirror_mode": {
    "name": "ipython",
    "version": 3
   },
   "file_extension": ".py",
   "mimetype": "text/x-python",
   "name": "python",
   "nbconvert_exporter": "python",
   "pygments_lexer": "ipython3",
   "version": "3.13.9"
  }
 },
 "nbformat": 4,
 "nbformat_minor": 5
}
