{
 "cells": [
  {
   "cell_type": "markdown",
   "id": "a98edc37",
   "metadata": {},
   "source": [
    "# Imputation of Missing Values\n",
    "\n",
    "It looks as if `scikit`'s more advanced imputation methods have been marked as \"experimental\" since 2019. Given that it's 2025 and the documentation still says \"experimental\", it looks like we'll have to find other means. We'll begin with the [`autoimpute`](https://pypi.org/project/autoimpute/) library, which had its last update in 2024. Given that it's an active project designed to work well with `scikit`, I think it could be a promising option."
   ]
  }
 ],
 "metadata": {
  "kernelspec": {
   "display_name": "lin-reg-env",
   "language": "python",
   "name": "python3"
  },
  "language_info": {
   "codemirror_mode": {
    "name": "ipython",
    "version": 3
   },
   "file_extension": ".py",
   "mimetype": "text/x-python",
   "name": "python",
   "nbconvert_exporter": "python",
   "pygments_lexer": "ipython3",
   "version": "3.13.5"
  }
 },
 "nbformat": 4,
 "nbformat_minor": 5
}
