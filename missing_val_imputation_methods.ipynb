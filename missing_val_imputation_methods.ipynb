{
 "cells": [
  {
   "cell_type": "markdown",
   "id": "a98edc37",
   "metadata": {},
   "source": [
    "# Imputation of Missing Values\n",
    "\n",
    "[Resource](https://scikit-learn.org/stable/modules/impute.html)\n",
    "\n",
    "Datasets that are missing values are incompatible with scikit-learn estimators which assume that all values in an array are numerical, and that all have and hold meaning. With that said, let's look into missing value imputation.\n",
    "\n"
   ]
  }
 ],
 "metadata": {
  "language_info": {
   "name": "python"
  }
 },
 "nbformat": 4,
 "nbformat_minor": 5
}
