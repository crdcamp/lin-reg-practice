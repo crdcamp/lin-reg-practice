{
 "cells": [
  {
   "cell_type": "markdown",
   "id": "b2e99239",
   "metadata": {},
   "source": [
    "# Used Car Price Prediction\n",
    "\n",
    "[Kaggle Resource](https://www.kaggle.com/datasets/taeefnajib/used-car-price-prediction-dataset)\n",
    "\n",
    "**IT'S FINALLY TIME!**\n",
    "\n",
    "After countless total hours... probably even total days of learning, studying, preparation, examination of best practices, and relearning... it's finally time for me to apply my studies.\n",
    "\n",
    "I've also recently decided that you can only do so much preparation for a complicated field like ML, so I'm going to likely have to fill in some gaps along the way here. Thankfully, Kaggle has a LOT of publicly posted code to assist me here. I will abstain from referencing it as long as I can though, and will make sure to give credit where it's due.\n",
    "\n",
    "Anyway, I believe this data marks a perfect balance between being a challenge while also being an approachable task. Let's begin!"
   ]
  },
  {
   "cell_type": "code",
   "execution_count": null,
   "id": "5fe1de0b",
   "metadata": {
    "vscode": {
     "languageId": "plaintext"
    }
   },
   "outputs": [],
   "source": []
  }
 ],
 "metadata": {
  "language_info": {
   "name": "python"
  }
 },
 "nbformat": 4,
 "nbformat_minor": 5
}
